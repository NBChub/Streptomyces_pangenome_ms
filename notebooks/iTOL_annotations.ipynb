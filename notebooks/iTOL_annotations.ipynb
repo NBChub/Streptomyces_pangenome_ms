{
 "cells": [
  {
   "cell_type": "markdown",
   "id": "6973f7af-c400-45f8-b24a-1118fffc7fe1",
   "metadata": {},
   "source": [
    "# iTOL figures NBC_actino"
   ]
  },
  {
   "cell_type": "code",
   "execution_count": 1,
   "id": "d9cf5038-7dc5-437e-9b49-e7f11f9164a9",
   "metadata": {},
   "outputs": [],
   "source": [
    "# Import libraries\n",
    "import os\n",
    "from Bio import SeqIO\n",
    "import pandas as pd\n",
    "import networkx as nx\n",
    "from shutil import copyfile\n",
    "from Bio.Align.Applications import MuscleCommandline\n",
    "from collections import OrderedDict\n",
    "import seaborn as sns\n",
    "import matplotlib.pyplot as plt\n",
    "from Bio import Phylo\n",
    "import yaml\n",
    "from pathlib import Path"
   ]
  },
  {
   "cell_type": "code",
   "execution_count": null,
   "id": "72e60d96-a631-4d69-bc4f-1a8adda9904e",
   "metadata": {},
   "outputs": [],
   "source": [
    "with open(\"config.yaml\", \"r\") as f:\n",
    "    notebook_configuration = yaml.safe_load(f)\n",
    "notebook_configuration"
   ]
  },
  {
   "cell_type": "code",
   "execution_count": 3,
   "id": "6112193a-a72d-49a0-baec-75ac35ca015b",
   "metadata": {},
   "outputs": [],
   "source": [
    "# Write samples.csv table to config directory of qc_strepto_ncbi project\n",
    "bgcflow_dir = Path(notebook_configuration[\"bgcflow_dir\"])\n",
    "project_name_1 = \"mq_strepto\"\n",
    "processed_dir_1 = bgcflow_dir / \"data\" / \"processed\" / project_name_1\n",
    "\n",
    "# Read output tables from the processed directory\n",
    "ncbi_meta_table = processed_dir_1 / \"tables\"/ \"df_ncbi_meta.csv\"\n",
    "df_ncbi_meta = pd.read_csv(ncbi_meta_table, index_col= 0)\n",
    "\n",
    "gtdb_meta_table = processed_dir_1 / \"tables\"/ \"df_gtdb_meta_curated.csv\"\n",
    "df_gtdb_meta = pd.read_csv(gtdb_meta_table, index_col= 0)\n",
    "\n",
    "seqfu_meta_table = processed_dir_1 / \"tables\"/ \"df_seqfu_stats.csv\"\n",
    "df_seqfu_meta = pd.read_csv(seqfu_meta_table, index_col= 0)\n",
    "\n",
    "mash_table = processed_dir_1 / \"mash\"/ \"df_mash.csv\"\n",
    "df_mash = pd.read_csv(mash_table, index_col= 0)\n",
    "\n",
    "filters_table = processed_dir_1 / \"tables\" / \"df_filters.csv\"\n",
    "df_filter_quality = pd.read_csv(filters_table, index_col=0)\n",
    "\n",
    "antismash_table = processed_dir_1 / \"tables\" / \"df_antismash_7.0.0_summary.csv\"\n",
    "df_antismash = pd.read_csv(antismash_table, index_col=0, low_memory=False)\n",
    "\n",
    "df_mash_clusters = pd.read_csv(\"assets/tables/df_mash_clusters_main.csv\", index_col=0)\n",
    "df_silhouette_filtered = pd.read_csv(\"assets/tables/df_mash_clusters_main_reduced.csv\", index_col=0)\n",
    "\n",
    "gtdbtk_tree_path = processed_dir_1 / \"gtdbtk_tree\" / \"gtdbtk.bac120.rooted.itol.tree\"\n",
    "get_phylo_tree_path = processed_dir_1 / \"getphylo\" / \"getphylo.rooted.tree\"\n",
    "automlst_tree_path = processed_dir_1 / \"automlst_wrapper\" / \"final.newick\""
   ]
  },
  {
   "cell_type": "code",
   "execution_count": null,
   "id": "8072ca30-50f1-498e-b55e-26a85c9308a6",
   "metadata": {},
   "outputs": [],
   "source": [
    "df_subclusters = pd.DataFrame()\n",
    "for group in [\"P1\", \"P2\", \"P3\", \"P4\", \"P5\", \"P6\", \"P7\"]:\n",
    "    df_subclusters_group = pd.read_csv(\"assets/tables/df_subclusters_\" + group + \"_reduced.csv\", index_col=0)\n",
    "    df_subclusters = pd.concat([df_subclusters, df_subclusters_group])\n",
    "df_subclusters"
   ]
  },
  {
   "cell_type": "code",
   "execution_count": 5,
   "id": "cc6183ec-85e6-4b36-883f-9984089a9f86",
   "metadata": {},
   "outputs": [],
   "source": [
    "df_subclusters.to_csv(\"assets/tables/df_subclusters_reduced.csv\")"
   ]
  },
  {
   "cell_type": "markdown",
   "id": "b986e6d1-b2e0-4396-8ea5-102b4f3a5794",
   "metadata": {},
   "source": [
    "# Get GTDBTk tree results"
   ]
  },
  {
   "cell_type": "code",
   "execution_count": 6,
   "id": "105f6dfa-f44d-44dc-8112-342461e43f51",
   "metadata": {},
   "outputs": [],
   "source": [
    "t = Phylo.read(gtdbtk_tree_path, 'newick')"
   ]
  },
  {
   "cell_type": "code",
   "execution_count": 7,
   "id": "8bc90b71-fd12-43d5-813c-39822bd9556d",
   "metadata": {
    "scrolled": true
   },
   "outputs": [],
   "source": [
    "genome_tree_order = [node.name for node in t.get_terminals() if node.name in df_seqfu_meta.index]"
   ]
  },
  {
   "cell_type": "code",
   "execution_count": 8,
   "id": "4dcf97b3-7128-4562-984b-f9bb35693d72",
   "metadata": {},
   "outputs": [],
   "source": [
    "phylo_genome_len_bar_path = processed_dir_1 / \"iTOL\" / 'df_gtdb_genome_len.csv'\n",
    "phylo_colored_range_path =  processed_dir_1 / \"iTOL\" / 'df_gtdb_colored_range.csv'\n",
    "\n",
    "# Color strips\n",
    "phylo_silhouette_path = processed_dir_1 / \"iTOL\" / 'df_gtdb_color_strip_silhouette.csv'\n",
    "phylo_subclusters_path = processed_dir_1 / \"iTOL\" / 'df_gtdb_color_strip_subclusters.csv'\n",
    "phylo_filters_path = processed_dir_1 / \"iTOL\" / 'df_gtdb_color_strip_filters.csv'"
   ]
  },
  {
   "cell_type": "code",
   "execution_count": null,
   "id": "9a29cb5c-880f-4215-881f-f0525e086054",
   "metadata": {
    "scrolled": true
   },
   "outputs": [],
   "source": [
    "filter_color_dict = {\"HQ_NCBI\": \"#8B0000\",\n",
    "                    \"MQ_NCBI\": \"#FA8072\",\n",
    "                    \"HQ_NBC\": \"#00008B\",\n",
    "                    \"MQ_NBC\": \"#ADD8E6\"}\n",
    "\n",
    "df_phylo_filters = pd.DataFrame(index= genome_tree_order)\n",
    "df_phylo_filters['node_label'] = df_filter_quality.loc[genome_tree_order, 'species'].tolist()\n",
    "\n",
    "for genome_id in df_phylo_filters.index:\n",
    "    source_qaulity = df_filter_quality.loc[genome_id, \"quality\"] + \"_\" + df_filter_quality.loc[genome_id, \"source\"]\n",
    "    df_phylo_filters.loc[genome_id, 'range_color'] = filter_color_dict[source_qaulity]\n",
    "    df_phylo_filters.loc[genome_id, 'range_label'] = source_qaulity\n",
    "\n",
    "df_phylo_filters.to_csv(phylo_filters_path)\n",
    "df_phylo_filters"
   ]
  },
  {
   "cell_type": "code",
   "execution_count": null,
   "id": "f8a1f2f0-ed41-4e9b-a5b6-451ac532e688",
   "metadata": {
    "scrolled": true
   },
   "outputs": [],
   "source": [
    "df_phylo_genome_len = pd.DataFrame(index= genome_tree_order)\n",
    "df_phylo_genome_len['node_label'] = df_filter_quality.loc[genome_tree_order, 'species'].tolist()\n",
    "df_phylo_genome_len['genome_len'] = df_seqfu_meta.loc[genome_tree_order,'Total'].tolist()\n",
    "df_phylo_genome_len.to_csv(phylo_genome_len_bar_path)\n",
    "df_phylo_genome_len"
   ]
  },
  {
   "cell_type": "code",
   "execution_count": null,
   "id": "669cbf88-bd31-49fb-aaaf-de55cc554199",
   "metadata": {
    "scrolled": true
   },
   "outputs": [],
   "source": [
    "df_phylo_colored_range = pd.DataFrame(index= genome_tree_order)\n",
    "df_phylo_colored_range['node_label'] = df_filter_quality.loc[genome_tree_order, 'species'].tolist()\n",
    "\n",
    "df_phylo_colored_range['range_color'] = df_mash_clusters.loc[genome_tree_order, 'Cluster_Color'].tolist()\n",
    "df_phylo_colored_range['range_label'] = df_mash_clusters.loc[genome_tree_order, 'Cluster'].tolist()\n",
    "\n",
    "df_phylo_colored_range.to_csv(phylo_colored_range_path)\n",
    "df_phylo_colored_range"
   ]
  },
  {
   "cell_type": "code",
   "execution_count": null,
   "id": "f678f49f-a66b-4153-81b2-caff28928a3f",
   "metadata": {},
   "outputs": [],
   "source": [
    "df_phylo_colored_subclusters = pd.DataFrame(index= df_subclusters.index)\n",
    "df_phylo_colored_subclusters['node_label'] = df_filter_quality.loc[df_subclusters.index, 'species'].tolist()\n",
    "\n",
    "df_phylo_colored_subclusters['range_color'] = df_subclusters['Cluster_Color']\n",
    "df_phylo_colored_subclusters['range_label'] = df_subclusters['Cluster']\n",
    "df_phylo_colored_subclusters.to_csv(phylo_subclusters_path)\n",
    "df_phylo_colored_subclusters"
   ]
  },
  {
   "cell_type": "code",
   "execution_count": null,
   "id": "f9cd7ddd-23b5-44aa-bcb9-9e064fa183c3",
   "metadata": {},
   "outputs": [],
   "source": [
    "df_phylo_colored_silhouette = pd.DataFrame(index= df_silhouette_filtered.index)\n",
    "df_phylo_colored_silhouette['node_label'] = df_filter_quality.loc[df_silhouette_filtered.index, 'species'].tolist()\n",
    "\n",
    "df_phylo_colored_silhouette['range_color'] = df_mash_clusters.loc[df_silhouette_filtered.index, 'Cluster_Color'].tolist()\n",
    "df_phylo_colored_silhouette['range_label'] = df_silhouette_filtered.loc[:, 'Cluster'].tolist()\n",
    "\n",
    "df_phylo_colored_silhouette.to_csv(phylo_silhouette_path)\n",
    "df_phylo_colored_silhouette"
   ]
  },
  {
   "cell_type": "markdown",
   "id": "6b452477-d462-4796-9c8b-a15181896ec0",
   "metadata": {},
   "source": [
    "# Get get_phylo tree results"
   ]
  },
  {
   "cell_type": "code",
   "execution_count": 14,
   "id": "b1194a35-83e5-4dbc-99ba-fcd2ee43123b",
   "metadata": {},
   "outputs": [],
   "source": [
    "t = Phylo.read(get_phylo_tree_path, 'newick')"
   ]
  },
  {
   "cell_type": "code",
   "execution_count": 15,
   "id": "11852a78-8321-40da-8568-caef03f1f1e2",
   "metadata": {
    "scrolled": true
   },
   "outputs": [],
   "source": [
    "genome_tree_order = [node.name for node in t.get_terminals() if node.name in df_seqfu_meta.index]"
   ]
  },
  {
   "cell_type": "code",
   "execution_count": 16,
   "id": "03bf22d2-2e0d-44b2-b874-af760e653b6a",
   "metadata": {},
   "outputs": [],
   "source": [
    "phylo_genome_len_bar_path = processed_dir_1 / \"iTOL\" / 'df_getphylo_genome_len.csv'\n",
    "phylo_colored_range_path =  processed_dir_1 / \"iTOL\" / 'df_getphylo_colored_range.csv'\n",
    "phylo_subclusters_path = processed_dir_1 / \"iTOL\" / 'df_getphylo_color_strip_subclusters.csv'\n",
    "phylo_filters_path = processed_dir_1 / \"iTOL\" / 'df_getphylo_color_strip_filters.csv'\n",
    "phylo_silhouette_path = processed_dir_1 / \"iTOL\" / 'df_getphylo_color_strip_silhouette.csv'"
   ]
  },
  {
   "cell_type": "code",
   "execution_count": null,
   "id": "371ad36f-5c7f-4daf-ae8b-0660b6683126",
   "metadata": {
    "scrolled": true
   },
   "outputs": [],
   "source": [
    "filter_color_dict = {\"HQ_NCBI\": \"#8B0000\",\n",
    "                    \"MQ_NCBI\": \"#FA8072\",\n",
    "                    \"HQ_NBC\": \"#00008B\",\n",
    "                    \"MQ_NBC\": \"#ADD8E6\"}\n",
    "\n",
    "df_phylo_filters = pd.DataFrame(index= genome_tree_order)\n",
    "df_phylo_filters['node_label'] = df_filter_quality.loc[genome_tree_order, 'species'].tolist()\n",
    "\n",
    "for genome_id in df_phylo_filters.index:\n",
    "    source_qaulity = df_filter_quality.loc[genome_id, \"quality\"] + \"_\" + df_filter_quality.loc[genome_id, \"source\"]\n",
    "    df_phylo_filters.loc[genome_id, 'range_color'] = filter_color_dict[source_qaulity]\n",
    "    df_phylo_filters.loc[genome_id, 'range_label'] = source_qaulity\n",
    "\n",
    "df_phylo_filters.to_csv(phylo_filters_path)\n",
    "df_phylo_filters"
   ]
  },
  {
   "cell_type": "code",
   "execution_count": null,
   "id": "96cfa54d-6cca-443a-9cc8-cebeba4f45ee",
   "metadata": {},
   "outputs": [],
   "source": [
    "df_phylo_genome_len = pd.DataFrame(index= genome_tree_order)\n",
    "df_phylo_genome_len['node_label'] = df_filter_quality.loc[genome_tree_order, 'species'].tolist()\n",
    "df_phylo_genome_len['genome_len'] = df_seqfu_meta.loc[genome_tree_order,'Total'].tolist()\n",
    "df_phylo_genome_len.to_csv(phylo_genome_len_bar_path)\n",
    "df_phylo_genome_len"
   ]
  },
  {
   "cell_type": "code",
   "execution_count": null,
   "id": "5042ef20-d847-450b-878e-2b23aa316c16",
   "metadata": {},
   "outputs": [],
   "source": [
    "df_phylo_colored_range = pd.DataFrame(index= genome_tree_order)\n",
    "df_phylo_colored_range['node_label'] = df_filter_quality.loc[genome_tree_order, 'species'].tolist()\n",
    "\n",
    "df_phylo_colored_range['range_color'] = df_mash_clusters.loc[genome_tree_order, 'Cluster_Color'].tolist()\n",
    "df_phylo_colored_range['range_label'] = df_mash_clusters.loc[genome_tree_order, 'Cluster'].tolist()\n",
    "\n",
    "df_phylo_colored_range.to_csv(phylo_colored_range_path)\n",
    "df_phylo_colored_range"
   ]
  },
  {
   "cell_type": "code",
   "execution_count": null,
   "id": "a5006988-437f-44ff-8982-d5e86b8a44f3",
   "metadata": {},
   "outputs": [],
   "source": [
    "df_phylo_colored_silhouette = pd.DataFrame(index= df_silhouette_filtered.index)\n",
    "df_phylo_colored_silhouette['node_label'] = df_filter_quality.loc[df_silhouette_filtered.index, 'species'].tolist()\n",
    "\n",
    "df_phylo_colored_silhouette['range_color'] = df_silhouette_filtered.loc[:, 'Cluster_Color'].tolist()\n",
    "df_phylo_colored_silhouette['range_label'] = df_silhouette_filtered.loc[:, 'Cluster'].tolist()\n",
    "\n",
    "df_phylo_colored_silhouette.to_csv(phylo_silhouette_path)\n",
    "df_phylo_colored_silhouette"
   ]
  },
  {
   "cell_type": "code",
   "execution_count": null,
   "id": "704931ef-0a65-4c14-91b2-95bbe3d1dfb0",
   "metadata": {},
   "outputs": [],
   "source": [
    "df_phylo_colored_subclusters = pd.DataFrame(index= df_subclusters.index)\n",
    "df_phylo_colored_subclusters['node_label'] = df_filter_quality.loc[df_subclusters.index, 'species'].tolist()\n",
    "\n",
    "df_phylo_colored_subclusters['range_color'] = df_subclusters['Cluster_Color']\n",
    "df_phylo_colored_subclusters['range_label'] = df_subclusters['Cluster']\n",
    "\n",
    "df_phylo_colored_subclusters.to_csv(phylo_subclusters_path)\n",
    "df_phylo_colored_subclusters"
   ]
  },
  {
   "cell_type": "markdown",
   "id": "6ac1825e-7fdd-428a-9eeb-0ef81dda8b72",
   "metadata": {},
   "source": [
    "# Get automlst tree results"
   ]
  },
  {
   "cell_type": "code",
   "execution_count": 22,
   "id": "64c70994-def2-49ec-9a5f-156b2c66fb9e",
   "metadata": {
    "scrolled": true
   },
   "outputs": [],
   "source": [
    "with open(automlst_tree_path, \"r\") as f:\n",
    "    data = f.readlines()\n",
    "\n",
    "value_to_replace = [i.split(\":\")[0] for i in data[0].replace(\"(\", \"\").split(\",\")]\n",
    "\n",
    "hnew_dict = {}\n",
    "df = pd.read_csv(processed_dir_1 / \"automlst_wrapper/df_genomes_tree.csv\")\n",
    "genome_ids = list(df.genome_id)\n",
    "for g in genome_ids:\n",
    "    for v in value_to_replace:\n",
    "        if v.startswith(g.split(\".\")[0]):\n",
    "            new_dict[v] = g\n",
    "            value_to_replace.remove(v)\n",
    "\n",
    "data = data[0]\n",
    "for k in new_dict.keys():\n",
    "    data = data.replace(k, new_dict[k])\n",
    "\n",
    "automlst_tree_corrected_path = processed_dir_1 / \"automlst_wrapper/final_corrected.newick\"\n",
    "with open(automlst_tree_corrected_path, \"w\") as f:\n",
    "    f.write(data)"
   ]
  },
  {
   "cell_type": "code",
   "execution_count": 23,
   "id": "d4b879df-a2d2-4adc-b42c-8172252597f8",
   "metadata": {},
   "outputs": [],
   "source": [
    "automlst_tree_corrected_path = processed_dir_1 / \"automlst_wrapper/final_corrected.newick\"\n",
    "t = Phylo.read(automlst_tree_corrected_path, 'newick')\n",
    "genome_tree_order = [node.name for node in t.get_terminals() if node.name in df_seqfu_meta.index]"
   ]
  },
  {
   "cell_type": "code",
   "execution_count": 24,
   "id": "ca90a486-38fc-43cb-b551-f41ef6f40218",
   "metadata": {},
   "outputs": [],
   "source": [
    "phylo_genome_len_bar_path = processed_dir_1 / \"iTOL\" / 'df_automlst_genome_len.csv'\n",
    "phylo_colored_range_path =  processed_dir_1 / \"iTOL\" / 'df_automlst_colored_range.csv'\n",
    "phylo_subclusters_path = processed_dir_1 / \"iTOL\" / 'df_automlst_color_strip_subclusters.csv'\n",
    "phylo_filters_path = processed_dir_1 / \"iTOL\" / 'df_automlst_color_strip_filters.csv'\n",
    "phylo_silhouette_path = processed_dir_1 / \"iTOL\" / 'df_automlst_color_strip_silhouette.csv'"
   ]
  },
  {
   "cell_type": "code",
   "execution_count": null,
   "id": "52432be7-a0fe-4f94-bffe-e9a7f3f8c1b1",
   "metadata": {},
   "outputs": [],
   "source": [
    "df_phylo_genome_len = pd.DataFrame(index= genome_tree_order)\n",
    "df_phylo_genome_len['node_label'] = df_filter_quality.loc[genome_tree_order, 'species'].tolist()\n",
    "df_phylo_genome_len['genome_len'] = df_seqfu_meta.loc[genome_tree_order,'Total'].tolist()\n",
    "df_phylo_genome_len.to_csv(phylo_genome_len_bar_path)\n",
    "df_phylo_genome_len"
   ]
  },
  {
   "cell_type": "code",
   "execution_count": null,
   "id": "68e11e97-3490-430b-9297-d4df71e85f5b",
   "metadata": {},
   "outputs": [],
   "source": [
    "df_phylo_colored_range = pd.DataFrame(index= genome_tree_order)\n",
    "df_phylo_colored_range['node_label'] = df_filter_quality.loc[genome_tree_order, 'species'].tolist()\n",
    "\n",
    "df_phylo_colored_range['range_color'] = df_mash_clusters.loc[genome_tree_order, 'Cluster_Color'].tolist()\n",
    "df_phylo_colored_range['range_label'] = df_mash_clusters.loc[genome_tree_order, 'Cluster'].tolist()\n",
    "\n",
    "df_phylo_colored_range.to_csv(phylo_colored_range_path)\n",
    "df_phylo_colored_range"
   ]
  },
  {
   "cell_type": "code",
   "execution_count": null,
   "id": "30673552-e58d-4e8f-96a4-c6e53afe910d",
   "metadata": {},
   "outputs": [],
   "source": [
    "df_phylo_colored_subclusters = pd.DataFrame(index= df_subclusters.index)\n",
    "df_phylo_colored_subclusters['node_label'] = df_filter_quality.loc[df_subclusters.index, 'species'].tolist()\n",
    "\n",
    "df_phylo_colored_subclusters['range_color'] = df_subclusters['Cluster_Color']\n",
    "df_phylo_colored_subclusters['range_label'] = df_subclusters['Cluster']\n",
    "\n",
    "df_phylo_colored_subclusters.to_csv(phylo_subclusters_path)\n",
    "df_phylo_colored_subclusters"
   ]
  },
  {
   "cell_type": "code",
   "execution_count": null,
   "id": "146396b4-d03e-4b17-8f7c-481f6f16dce0",
   "metadata": {},
   "outputs": [],
   "source": [
    "df_phylo_colored_silhouette = pd.DataFrame(index= df_silhouette_filtered.index)\n",
    "df_phylo_colored_silhouette['node_label'] = df_filter_quality.loc[df_silhouette_filtered.index, 'species'].tolist()\n",
    "\n",
    "df_phylo_colored_silhouette['range_color'] = df_silhouette_filtered.loc[:, 'Cluster_Color'].tolist()\n",
    "df_phylo_colored_silhouette['range_label'] = df_silhouette_filtered.loc[:, 'Cluster'].tolist()\n",
    "\n",
    "df_phylo_colored_silhouette.to_csv(phylo_silhouette_path)\n",
    "df_phylo_colored_silhouette"
   ]
  },
  {
   "cell_type": "markdown",
   "id": "e5541741-f9a4-4a78-b4af-3af1f3bbc7e2",
   "metadata": {},
   "source": [
    "# Add RED values to iTOL"
   ]
  },
  {
   "cell_type": "code",
   "execution_count": 58,
   "id": "db02b343-b1c9-4507-b0be-592ab979bf14",
   "metadata": {},
   "outputs": [],
   "source": [
    "RED_colors = {\"Streptomyces_RG1\": \"#3cb44b\", \n",
    "             \"Streptomyces_RG2\": \"#ffe119\", \n",
    "             \"Streptomyces_RG12\": \"#0082c8\", \n",
    "             \"Streptomyces_RG3\": \"#46f0f0\", \n",
    "             \"Streptomyces_RG4\": \"#f58231\", \n",
    "             \"Streptomyces_RG6\": \"#e6194b\"}"
   ]
  },
  {
   "cell_type": "code",
   "execution_count": 70,
   "id": "f53d3d8a-009b-43e8-a443-ce0072cdf1af",
   "metadata": {},
   "outputs": [],
   "source": [
    "df_RED = pd.read_csv(\"assets/tables/RED_groups.csv\", index_col=0, sep=\";\")\n",
    "df_RED_species = df_mash_clusters.copy()\n",
    "for RED in df_RED.index:\n",
    "    species_list = df_RED.loc[RED, \"GTDB_species_list\"].split(\"&\")\n",
    "    for species in species_list:\n",
    "        species = species.strip()\n",
    "        species_id = species.strip().split(\" \")[1]\n",
    "        if species_id in df_RED_species.Species.tolist():\n",
    "            df_species_tmp = df_RED_species[df_RED_species.Species == species_id]\n",
    "            df_RED_species.loc[df_species_tmp.index, \"RED\"] = RED\n",
    "            if RED in RED_colors.keys():\n",
    "                df_RED_species.loc[df_species_tmp.index, \"RED_color\"] = RED_colors[RED]\n",
    "            else:                \n",
    "                df_RED_species.loc[df_species_tmp.index, \"RED_color\"] = \"#808080\"\n",
    "\n",
    "df_RED_species[\"RED\"] = df_RED_species.RED.fillna(\"NA\")\n",
    "df_RED_species[\"RED_color\"] = df_RED_species.RED_color.fillna(\"#ffffff\")\n",
    "df_RED_species.to_csv(processed_dir_1 / \"iTOL\" / 'df_RED_values.csv')"
   ]
  }
 ],
 "metadata": {
  "kernelspec": {
   "display_name": "Python 3 (ipykernel)",
   "language": "python",
   "name": "python3"
  },
  "language_info": {
   "codemirror_mode": {
    "name": "ipython",
    "version": 3
   },
   "file_extension": ".py",
   "mimetype": "text/x-python",
   "name": "python",
   "nbconvert_exporter": "python",
   "pygments_lexer": "ipython3",
   "version": "3.9.16"
  }
 },
 "nbformat": 4,
 "nbformat_minor": 5
}
