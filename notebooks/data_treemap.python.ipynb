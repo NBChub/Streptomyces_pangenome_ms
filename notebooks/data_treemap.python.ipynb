{
 "cells": [
  {
   "attachments": {},
   "cell_type": "markdown",
   "id": "aa0f0d95-5e6b-436f-a971-9486d0841329",
   "metadata": {},
   "source": [
    "# Treemap figure representing the categories of starting dataset"
   ]
  },
  {
   "cell_type": "code",
   "execution_count": 72,
   "id": "d21448bb-afe9-4fdb-b964-2143a0ccd1e4",
   "metadata": {
    "tags": []
   },
   "outputs": [],
   "source": [
    "import pandas as pd\n",
    "from pathlib import Path\n",
    "import random\n",
    "import yaml\n",
    "import plotly.express as px\n",
    "import warnings\n",
    "warnings.filterwarnings('ignore')"
   ]
  },
  {
   "cell_type": "code",
   "execution_count": 73,
   "id": "c1584e9d-6015-4f45-9ad9-03f417bf376f",
   "metadata": {},
   "outputs": [
    {
     "data": {
      "text/plain": [
       "{'bgcflow_dir': '/datadrive/bgcflow'}"
      ]
     },
     "execution_count": 73,
     "metadata": {},
     "output_type": "execute_result"
    }
   ],
   "source": [
    "with open(\"config.yaml\", \"r\") as f:\n",
    "    notebook_configuration = yaml.safe_load(f)\n",
    "notebook_configuration"
   ]
  },
  {
   "cell_type": "code",
   "execution_count": 81,
   "id": "21ae9ccc-11a1-430c-9bd2-412c2b3cca4d",
   "metadata": {},
   "outputs": [],
   "source": [
    "# Write samples.csv table to config directory of qc_strepto_ncbi project\n",
    "bgcflow_dir = Path(notebook_configuration[\"bgcflow_dir\"])\n",
    "project_name_1 = \"qc_strepto_ncbi\"\n",
    "processed_dir_1 = bgcflow_dir / \"data\" / \"processed\" / project_name_1\n",
    "\n",
    "project_name_2 = \"qc_gtdbtk\"\n",
    "processed_dir_2 = bgcflow_dir / \"data\" / \"processed\" / project_name_2\n",
    "\n",
    "# Read output tables from the processed directory\n",
    "ncbi_meta_table = processed_dir_1 / \"tables\"/ \"df_ncbi_meta.csv\"\n",
    "df_ncbi_meta = pd.read_csv(ncbi_meta_table, index_col= 0)\n",
    "\n",
    "gtdb_meta_table = processed_dir_1 / \"tables\"/ \"df_gtdb_meta_curated.csv\"\n",
    "df_gtdb_meta = pd.read_csv(gtdb_meta_table, index_col= 0)\n",
    "\n",
    "seqfu_meta_table_1 = processed_dir_1 / \"tables\"/ \"df_seqfu_stats.csv\"\n",
    "df_seqfu_meta_1 = pd.read_csv(seqfu_meta_table_1, index_col= 0)\n",
    "\n",
    "seqfu_meta_table_2 = processed_dir_2 / \"tables\"/ \"df_seqfu_stats.csv\"\n",
    "df_seqfu_meta_2 = pd.read_csv(seqfu_meta_table_2, index_col= 0)\n",
    "\n",
    "# Filter out indices that don't exist in df_seqfu_meta_2 index\n",
    "genomes_to_remove = [idx for idx in df_seqfu_meta_1.index if idx in df_seqfu_meta_2.index]\n",
    "\n",
    "# Drop the filtered indices from df_seqfu_meta_2 as they are already present in df_sedf_seqfu_meta_1\n",
    "df_seqfu_meta_NBC = df_seqfu_meta_2.drop(genomes_to_remove)\n",
    "\n",
    "# Combine two dataframes\n",
    "df_seqfu_meta = pd.concat([df_seqfu_meta_1, df_seqfu_meta_NBC])\n",
    "\n",
    "filters_table = processed_dir_1 / \"tables\" / \"df_filters.csv\"\n",
    "df_filter_quality = pd.read_csv(filters_table, index_col=0)\n",
    "df_filter_quality[\"genus\"] = df_filter_quality.genus.fillna(\"g__\")"
   ]
  },
  {
   "cell_type": "code",
   "execution_count": 80,
   "id": "d9292ada-2943-4865-989a-fd98acc8a7b7",
   "metadata": {},
   "outputs": [],
   "source": [
    "df_nbc = pd.read_csv(\"/datadrive/bgcflow/data/external/df_nbc.csv\", sep=\";\", index_col=0)"
   ]
  },
  {
   "cell_type": "code",
   "execution_count": 79,
   "id": "a2682f1d-1711-4cc3-9db8-9e2f990ca5da",
   "metadata": {},
   "outputs": [
    {
     "data": {
      "text/html": [
       "<div>\n",
       "<style scoped>\n",
       "    .dataframe tbody tr th:only-of-type {\n",
       "        vertical-align: middle;\n",
       "    }\n",
       "\n",
       "    .dataframe tbody tr th {\n",
       "        vertical-align: top;\n",
       "    }\n",
       "\n",
       "    .dataframe thead th {\n",
       "        text-align: right;\n",
       "    }\n",
       "</style>\n",
       "<table border=\"1\" class=\"dataframe\">\n",
       "  <thead>\n",
       "    <tr style=\"text-align: right;\">\n",
       "      <th></th>\n",
       "      <th></th>\n",
       "      <th>genome_id.1</th>\n",
       "      <th>genus</th>\n",
       "      <th>species</th>\n",
       "      <th>completeness</th>\n",
       "      <th>contamination</th>\n",
       "      <th>N50</th>\n",
       "      <th>contigs</th>\n",
       "      <th>genome_len</th>\n",
       "      <th>gc</th>\n",
       "      <th>strain</th>\n",
       "    </tr>\n",
       "    <tr>\n",
       "      <th>quality</th>\n",
       "      <th>source</th>\n",
       "      <th></th>\n",
       "      <th></th>\n",
       "      <th></th>\n",
       "      <th></th>\n",
       "      <th></th>\n",
       "      <th></th>\n",
       "      <th></th>\n",
       "      <th></th>\n",
       "      <th></th>\n",
       "      <th></th>\n",
       "    </tr>\n",
       "  </thead>\n",
       "  <tbody>\n",
       "    <tr>\n",
       "      <th rowspan=\"2\" valign=\"top\">HQ</th>\n",
       "      <th>Jørgensen et. al. 2024</th>\n",
       "      <td>860</td>\n",
       "      <td>860</td>\n",
       "      <td>860</td>\n",
       "      <td>860</td>\n",
       "      <td>860</td>\n",
       "      <td>860</td>\n",
       "      <td>860</td>\n",
       "      <td>860</td>\n",
       "      <td>860</td>\n",
       "      <td>860</td>\n",
       "    </tr>\n",
       "    <tr>\n",
       "      <th>NCBI</th>\n",
       "      <td>501</td>\n",
       "      <td>501</td>\n",
       "      <td>501</td>\n",
       "      <td>501</td>\n",
       "      <td>501</td>\n",
       "      <td>501</td>\n",
       "      <td>501</td>\n",
       "      <td>501</td>\n",
       "      <td>501</td>\n",
       "      <td>501</td>\n",
       "    </tr>\n",
       "    <tr>\n",
       "      <th rowspan=\"2\" valign=\"top\">LQ</th>\n",
       "      <th>Jørgensen et. al. 2024</th>\n",
       "      <td>10</td>\n",
       "      <td>10</td>\n",
       "      <td>10</td>\n",
       "      <td>10</td>\n",
       "      <td>10</td>\n",
       "      <td>10</td>\n",
       "      <td>10</td>\n",
       "      <td>10</td>\n",
       "      <td>10</td>\n",
       "      <td>10</td>\n",
       "    </tr>\n",
       "    <tr>\n",
       "      <th>NCBI</th>\n",
       "      <td>1254</td>\n",
       "      <td>1254</td>\n",
       "      <td>1254</td>\n",
       "      <td>1254</td>\n",
       "      <td>1254</td>\n",
       "      <td>1254</td>\n",
       "      <td>1254</td>\n",
       "      <td>1254</td>\n",
       "      <td>1254</td>\n",
       "      <td>1254</td>\n",
       "    </tr>\n",
       "    <tr>\n",
       "      <th rowspan=\"3\" valign=\"top\">MQ</th>\n",
       "      <th>Jørgensen et. al. 2024</th>\n",
       "      <td>32</td>\n",
       "      <td>32</td>\n",
       "      <td>32</td>\n",
       "      <td>32</td>\n",
       "      <td>32</td>\n",
       "      <td>32</td>\n",
       "      <td>32</td>\n",
       "      <td>32</td>\n",
       "      <td>32</td>\n",
       "      <td>32</td>\n",
       "    </tr>\n",
       "    <tr>\n",
       "      <th>Jørgensen et. al. 2024  (sourced from NCBI on 30 June 2023)</th>\n",
       "      <td>121</td>\n",
       "      <td>121</td>\n",
       "      <td>121</td>\n",
       "      <td>121</td>\n",
       "      <td>121</td>\n",
       "      <td>121</td>\n",
       "      <td>121</td>\n",
       "      <td>121</td>\n",
       "      <td>121</td>\n",
       "      <td>121</td>\n",
       "    </tr>\n",
       "    <tr>\n",
       "      <th>NCBI</th>\n",
       "      <td>1062</td>\n",
       "      <td>1062</td>\n",
       "      <td>1062</td>\n",
       "      <td>1062</td>\n",
       "      <td>1062</td>\n",
       "      <td>1062</td>\n",
       "      <td>1062</td>\n",
       "      <td>1062</td>\n",
       "      <td>1062</td>\n",
       "      <td>1062</td>\n",
       "    </tr>\n",
       "  </tbody>\n",
       "</table>\n",
       "</div>"
      ],
      "text/plain": [
       "                                                            genome_id.1  \\\n",
       "quality source                                                            \n",
       "HQ      Jørgensen et. al. 2024                                      860   \n",
       "        NCBI                                                        501   \n",
       "LQ      Jørgensen et. al. 2024                                       10   \n",
       "        NCBI                                                       1254   \n",
       "MQ      Jørgensen et. al. 2024                                       32   \n",
       "        Jørgensen et. al. 2024  (sourced from NCBI on 3...          121   \n",
       "        NCBI                                                       1062   \n",
       "\n",
       "                                                            genus  species  \\\n",
       "quality source                                                               \n",
       "HQ      Jørgensen et. al. 2024                                860      860   \n",
       "        NCBI                                                  501      501   \n",
       "LQ      Jørgensen et. al. 2024                                 10       10   \n",
       "        NCBI                                                 1254     1254   \n",
       "MQ      Jørgensen et. al. 2024                                 32       32   \n",
       "        Jørgensen et. al. 2024  (sourced from NCBI on 3...    121      121   \n",
       "        NCBI                                                 1062     1062   \n",
       "\n",
       "                                                            completeness  \\\n",
       "quality source                                                             \n",
       "HQ      Jørgensen et. al. 2024                                       860   \n",
       "        NCBI                                                         501   \n",
       "LQ      Jørgensen et. al. 2024                                        10   \n",
       "        NCBI                                                        1254   \n",
       "MQ      Jørgensen et. al. 2024                                        32   \n",
       "        Jørgensen et. al. 2024  (sourced from NCBI on 3...           121   \n",
       "        NCBI                                                        1062   \n",
       "\n",
       "                                                            contamination  \\\n",
       "quality source                                                              \n",
       "HQ      Jørgensen et. al. 2024                                        860   \n",
       "        NCBI                                                          501   \n",
       "LQ      Jørgensen et. al. 2024                                         10   \n",
       "        NCBI                                                         1254   \n",
       "MQ      Jørgensen et. al. 2024                                         32   \n",
       "        Jørgensen et. al. 2024  (sourced from NCBI on 3...            121   \n",
       "        NCBI                                                         1062   \n",
       "\n",
       "                                                             N50  contigs  \\\n",
       "quality source                                                              \n",
       "HQ      Jørgensen et. al. 2024                               860      860   \n",
       "        NCBI                                                 501      501   \n",
       "LQ      Jørgensen et. al. 2024                                10       10   \n",
       "        NCBI                                                1254     1254   \n",
       "MQ      Jørgensen et. al. 2024                                32       32   \n",
       "        Jørgensen et. al. 2024  (sourced from NCBI on 3...   121      121   \n",
       "        NCBI                                                1062     1062   \n",
       "\n",
       "                                                            genome_len    gc  \\\n",
       "quality source                                                                 \n",
       "HQ      Jørgensen et. al. 2024                                     860   860   \n",
       "        NCBI                                                       501   501   \n",
       "LQ      Jørgensen et. al. 2024                                      10    10   \n",
       "        NCBI                                                      1254  1254   \n",
       "MQ      Jørgensen et. al. 2024                                      32    32   \n",
       "        Jørgensen et. al. 2024  (sourced from NCBI on 3...         121   121   \n",
       "        NCBI                                                      1062  1062   \n",
       "\n",
       "                                                            strain  \n",
       "quality source                                                      \n",
       "HQ      Jørgensen et. al. 2024                                 860  \n",
       "        NCBI                                                   501  \n",
       "LQ      Jørgensen et. al. 2024                                  10  \n",
       "        NCBI                                                  1254  \n",
       "MQ      Jørgensen et. al. 2024                                  32  \n",
       "        Jørgensen et. al. 2024  (sourced from NCBI on 3...     121  \n",
       "        NCBI                                                  1062  "
      ]
     },
     "execution_count": 79,
     "metadata": {},
     "output_type": "execute_result"
    }
   ],
   "source": [
    "df_filter_quality.groupby(by=[\"quality\", \"source\"]).count()"
   ]
  },
  {
   "cell_type": "code",
   "execution_count": 83,
   "id": "2c4e6892-d6fb-4ada-9f4e-03676cfcff3f",
   "metadata": {},
   "outputs": [],
   "source": [
    "# df_filter_quality.loc[df_ncbi_meta.index, \"strain\"] = df_ncbi_meta.strain\n",
    "# df_filter_quality.loc[df_seqfu_meta_NBC.index, \"strain\"] = df_seqfu_meta_NBC.index"
   ]
  },
  {
   "cell_type": "code",
   "execution_count": 58,
   "id": "954b183c-a3c5-4780-9d61-97388b59ac7b",
   "metadata": {},
   "outputs": [],
   "source": [
    "# df_filter_quality.sort_values(by=[\"source\",\"genus\", \"species\", \"strain\"], inplace=True)"
   ]
  },
  {
   "cell_type": "code",
   "execution_count": 84,
   "id": "c406ecb4-d34c-4451-a354-070d2d956db8",
   "metadata": {},
   "outputs": [],
   "source": [
    "# df_filter_quality.to_csv(\"assets/data/df_quality_meta.csv\")"
   ]
  },
  {
   "cell_type": "code",
   "execution_count": 86,
   "id": "21e5c2ec-0f22-43f3-bbeb-1415d18448c9",
   "metadata": {},
   "outputs": [],
   "source": [
    "# df_filter_quality[(df_filter_quality[\"source\"] == \"NBC\") & (df_filter_quality.quality == \"LQ\")].to_csv(\"assets/data/checkm_contamination.csv\")\n",
    "# df_filter_quality"
   ]
  },
  {
   "cell_type": "code",
   "execution_count": 87,
   "id": "e2320ee1-bfa8-47d6-9ea5-ec5581693e86",
   "metadata": {},
   "outputs": [],
   "source": [
    "# # Replace genera with other if not Streptomyces\n",
    "# df = df_filter_quality.copy()\n",
    "\n",
    "# for genome_id in df.index:\n",
    "#     genus = df.loc[genome_id, \"genus\"]\n",
    "#     if genus != \"Streptomyces\":\n",
    "#         df.loc[genome_id, \"genus\"] = \"Other\""
   ]
  },
  {
   "cell_type": "markdown",
   "id": "bca60906-f0bd-4f42-9bdd-7936c5d21aae",
   "metadata": {},
   "source": [
    "# Treemap"
   ]
  },
  {
   "cell_type": "code",
   "execution_count": 103,
   "id": "b61134ff-cf60-4655-94fa-a935d2e25ed6",
   "metadata": {},
   "outputs": [
    {
     "data": {
      "application/vnd.plotly.v1+json": {
       "config": {
        "plotlyServerURL": "https://plot.ly"
       },
       "data": [
        {
         "branchvalues": "total",
         "customdata": [
          [
           "Jørgensen et. al. 2024",
           "Other",
           "HQ",
           "HQ"
          ],
          [
           "Jørgensen et. al. 2024",
           "(?)",
           "(?)",
           "(?)"
          ],
          [
           "NCBI",
           "Streptomyces",
           "(?)",
           "(?)"
          ],
          [
           "Jørgensen et. al. 2024  (sourced from NCBI on 30 June 2023)",
           "Streptomyces",
           "MQ",
           "MQ"
          ],
          [
           "Jørgensen et. al. 2024",
           "Streptomyces",
           "(?)",
           "(?)"
          ],
          [
           "NCBI",
           "Other",
           "(?)",
           "(?)"
          ],
          [
           "Jørgensen et. al. 2024  (sourced from NCBI on 30 June 2023)",
           "Other",
           "MQ",
           "MQ"
          ],
          [
           "Jørgensen et. al. 2024",
           "Other",
           "(?)",
           "(?)"
          ],
          [
           "NCBI",
           "Streptomyces",
           "MQ",
           "MQ"
          ],
          [
           "Jørgensen et. al. 2024  (sourced from NCBI on 30 June 2023)",
           "Streptomyces",
           "MQ",
           "MQ"
          ],
          [
           "Jørgensen et. al. 2024",
           "Streptomyces",
           "MQ",
           "MQ"
          ],
          [
           "Jørgensen et. al. 2024  (sourced from NCBI on 30 June 2023)",
           "Other",
           "MQ",
           "MQ"
          ],
          [
           "Jørgensen et. al. 2024",
           "Other",
           "MQ",
           "MQ"
          ],
          [
           "NCBI",
           "Streptomyces",
           "LQ",
           "LQ"
          ],
          [
           "Jørgensen et. al. 2024",
           "Streptomyces",
           "LQ",
           "LQ"
          ],
          [
           "NCBI",
           "Other",
           "LQ",
           "LQ"
          ],
          [
           "Jørgensen et. al. 2024",
           "Other",
           "LQ",
           "LQ"
          ],
          [
           "Jørgensen et. al. 2024",
           "Streptomyces",
           "HQ",
           "HQ"
          ],
          [
           "NCBI",
           "Other",
           "HQ",
           "HQ"
          ],
          [
           "NCBI",
           "Other",
           "MQ",
           "MQ"
          ],
          [
           "NCBI",
           "(?)",
           "(?)",
           "(?)"
          ],
          [
           "Jørgensen et. al. 2024  (sourced from NCBI on 30 June 2023)",
           "(?)",
           "MQ",
           "MQ"
          ],
          [
           "NCBI",
           "Streptomyces",
           "HQ",
           "HQ"
          ]
         ],
         "domain": {
          "x": [
           0,
           1
          ],
          "y": [
           0,
           1
          ]
         },
         "hovertemplate": "<b>%{label} </b> <br> Count: %{value}",
         "ids": [
          "Jørgensen et. al. 2024/Other/HQ",
          "Jørgensen et. al. 2024",
          "NCBI/Streptomyces",
          "Jørgensen et. al. 2024  (sourced from NCBI on 30 June 2023)/Streptomyces",
          "Jørgensen et. al. 2024/Streptomyces",
          "NCBI/Other",
          "Jørgensen et. al. 2024  (sourced from NCBI on 30 June 2023)/Other",
          "Jørgensen et. al. 2024/Other",
          "NCBI/Streptomyces/MQ",
          "Jørgensen et. al. 2024  (sourced from NCBI on 30 June 2023)/Streptomyces/MQ",
          "Jørgensen et. al. 2024/Streptomyces/MQ",
          "Jørgensen et. al. 2024  (sourced from NCBI on 30 June 2023)/Other/MQ",
          "Jørgensen et. al. 2024/Other/MQ",
          "NCBI/Streptomyces/LQ",
          "Jørgensen et. al. 2024/Streptomyces/LQ",
          "NCBI/Other/LQ",
          "Jørgensen et. al. 2024/Other/LQ",
          "Jørgensen et. al. 2024/Streptomyces/HQ",
          "NCBI/Other/HQ",
          "NCBI/Other/MQ",
          "NCBI",
          "Jørgensen et. al. 2024  (sourced from NCBI on 30 June 2023)",
          "NCBI/Streptomyces/HQ"
         ],
         "labels": [
          "HQ",
          "Jørgensen et. al. 2024",
          "Streptomyces",
          "Streptomyces",
          "Streptomyces",
          "Other",
          "Other",
          "Other",
          "MQ",
          "MQ",
          "MQ",
          "MQ",
          "MQ",
          "LQ",
          "LQ",
          "LQ",
          "LQ",
          "HQ",
          "HQ",
          "MQ",
          "NCBI",
          "Jørgensen et. al. 2024  (sourced from NCBI on 30 June 2023)",
          "HQ"
         ],
         "marker": {
          "colors": [
           "#009E73",
           "#ab63fa",
           "#ab63fa",
           "#56B4E9",
           "#ab63fa",
           "#ab63fa",
           "#56B4E9",
           "#ab63fa",
           "#56B4E9",
           "#56B4E9",
           "#56B4E9",
           "#56B4E9",
           "#56B4E9",
           "#E69F00",
           "#E69F00",
           "#E69F00",
           "#E69F00",
           "#009E73",
           "#009E73",
           "#56B4E9",
           "#ab63fa",
           "#56B4E9",
           "#009E73"
          ]
         },
         "name": "",
         "parents": [
          "Jørgensen et. al. 2024/Other",
          "",
          "NCBI",
          "Jørgensen et. al. 2024  (sourced from NCBI on 30 June 2023)",
          "Jørgensen et. al. 2024",
          "NCBI",
          "Jørgensen et. al. 2024  (sourced from NCBI on 30 June 2023)",
          "Jørgensen et. al. 2024",
          "NCBI/Streptomyces",
          "Jørgensen et. al. 2024  (sourced from NCBI on 30 June 2023)/Streptomyces",
          "Jørgensen et. al. 2024/Streptomyces",
          "Jørgensen et. al. 2024  (sourced from NCBI on 30 June 2023)/Other",
          "Jørgensen et. al. 2024/Other",
          "NCBI/Streptomyces",
          "Jørgensen et. al. 2024/Streptomyces",
          "NCBI/Other",
          "Jørgensen et. al. 2024/Other",
          "Jørgensen et. al. 2024/Streptomyces",
          "NCBI/Other",
          "NCBI/Other",
          "",
          "",
          "NCBI/Streptomyces"
         ],
         "textfont": {
          "size": 12
         },
         "textinfo": "label+text+value",
         "textposition": "top left",
         "type": "treemap",
         "values": [
          133,
          902,
          2694,
          117,
          758,
          123,
          4,
          144,
          1012,
          117,
          27,
          4,
          5,
          1194,
          4,
          60,
          6,
          727,
          13,
          50,
          2817,
          121,
          488
         ]
        }
       ],
       "layout": {
        "height": 800,
        "legend": {
         "tracegroupgap": 0
        },
        "margin": {
         "t": 60
        },
        "template": {
         "data": {
          "bar": [
           {
            "error_x": {
             "color": "#2a3f5f"
            },
            "error_y": {
             "color": "#2a3f5f"
            },
            "marker": {
             "line": {
              "color": "#E5ECF6",
              "width": 0.5
             },
             "pattern": {
              "fillmode": "overlay",
              "size": 10,
              "solidity": 0.2
             }
            },
            "type": "bar"
           }
          ],
          "barpolar": [
           {
            "marker": {
             "line": {
              "color": "#E5ECF6",
              "width": 0.5
             },
             "pattern": {
              "fillmode": "overlay",
              "size": 10,
              "solidity": 0.2
             }
            },
            "type": "barpolar"
           }
          ],
          "carpet": [
           {
            "aaxis": {
             "endlinecolor": "#2a3f5f",
             "gridcolor": "white",
             "linecolor": "white",
             "minorgridcolor": "white",
             "startlinecolor": "#2a3f5f"
            },
            "baxis": {
             "endlinecolor": "#2a3f5f",
             "gridcolor": "white",
             "linecolor": "white",
             "minorgridcolor": "white",
             "startlinecolor": "#2a3f5f"
            },
            "type": "carpet"
           }
          ],
          "choropleth": [
           {
            "colorbar": {
             "outlinewidth": 0,
             "ticks": ""
            },
            "type": "choropleth"
           }
          ],
          "contour": [
           {
            "colorbar": {
             "outlinewidth": 0,
             "ticks": ""
            },
            "colorscale": [
             [
              0,
              "#0d0887"
             ],
             [
              0.1111111111111111,
              "#46039f"
             ],
             [
              0.2222222222222222,
              "#7201a8"
             ],
             [
              0.3333333333333333,
              "#9c179e"
             ],
             [
              0.4444444444444444,
              "#bd3786"
             ],
             [
              0.5555555555555556,
              "#d8576b"
             ],
             [
              0.6666666666666666,
              "#ed7953"
             ],
             [
              0.7777777777777778,
              "#fb9f3a"
             ],
             [
              0.8888888888888888,
              "#fdca26"
             ],
             [
              1,
              "#f0f921"
             ]
            ],
            "type": "contour"
           }
          ],
          "contourcarpet": [
           {
            "colorbar": {
             "outlinewidth": 0,
             "ticks": ""
            },
            "type": "contourcarpet"
           }
          ],
          "heatmap": [
           {
            "colorbar": {
             "outlinewidth": 0,
             "ticks": ""
            },
            "colorscale": [
             [
              0,
              "#0d0887"
             ],
             [
              0.1111111111111111,
              "#46039f"
             ],
             [
              0.2222222222222222,
              "#7201a8"
             ],
             [
              0.3333333333333333,
              "#9c179e"
             ],
             [
              0.4444444444444444,
              "#bd3786"
             ],
             [
              0.5555555555555556,
              "#d8576b"
             ],
             [
              0.6666666666666666,
              "#ed7953"
             ],
             [
              0.7777777777777778,
              "#fb9f3a"
             ],
             [
              0.8888888888888888,
              "#fdca26"
             ],
             [
              1,
              "#f0f921"
             ]
            ],
            "type": "heatmap"
           }
          ],
          "heatmapgl": [
           {
            "colorbar": {
             "outlinewidth": 0,
             "ticks": ""
            },
            "colorscale": [
             [
              0,
              "#0d0887"
             ],
             [
              0.1111111111111111,
              "#46039f"
             ],
             [
              0.2222222222222222,
              "#7201a8"
             ],
             [
              0.3333333333333333,
              "#9c179e"
             ],
             [
              0.4444444444444444,
              "#bd3786"
             ],
             [
              0.5555555555555556,
              "#d8576b"
             ],
             [
              0.6666666666666666,
              "#ed7953"
             ],
             [
              0.7777777777777778,
              "#fb9f3a"
             ],
             [
              0.8888888888888888,
              "#fdca26"
             ],
             [
              1,
              "#f0f921"
             ]
            ],
            "type": "heatmapgl"
           }
          ],
          "histogram": [
           {
            "marker": {
             "pattern": {
              "fillmode": "overlay",
              "size": 10,
              "solidity": 0.2
             }
            },
            "type": "histogram"
           }
          ],
          "histogram2d": [
           {
            "colorbar": {
             "outlinewidth": 0,
             "ticks": ""
            },
            "colorscale": [
             [
              0,
              "#0d0887"
             ],
             [
              0.1111111111111111,
              "#46039f"
             ],
             [
              0.2222222222222222,
              "#7201a8"
             ],
             [
              0.3333333333333333,
              "#9c179e"
             ],
             [
              0.4444444444444444,
              "#bd3786"
             ],
             [
              0.5555555555555556,
              "#d8576b"
             ],
             [
              0.6666666666666666,
              "#ed7953"
             ],
             [
              0.7777777777777778,
              "#fb9f3a"
             ],
             [
              0.8888888888888888,
              "#fdca26"
             ],
             [
              1,
              "#f0f921"
             ]
            ],
            "type": "histogram2d"
           }
          ],
          "histogram2dcontour": [
           {
            "colorbar": {
             "outlinewidth": 0,
             "ticks": ""
            },
            "colorscale": [
             [
              0,
              "#0d0887"
             ],
             [
              0.1111111111111111,
              "#46039f"
             ],
             [
              0.2222222222222222,
              "#7201a8"
             ],
             [
              0.3333333333333333,
              "#9c179e"
             ],
             [
              0.4444444444444444,
              "#bd3786"
             ],
             [
              0.5555555555555556,
              "#d8576b"
             ],
             [
              0.6666666666666666,
              "#ed7953"
             ],
             [
              0.7777777777777778,
              "#fb9f3a"
             ],
             [
              0.8888888888888888,
              "#fdca26"
             ],
             [
              1,
              "#f0f921"
             ]
            ],
            "type": "histogram2dcontour"
           }
          ],
          "mesh3d": [
           {
            "colorbar": {
             "outlinewidth": 0,
             "ticks": ""
            },
            "type": "mesh3d"
           }
          ],
          "parcoords": [
           {
            "line": {
             "colorbar": {
              "outlinewidth": 0,
              "ticks": ""
             }
            },
            "type": "parcoords"
           }
          ],
          "pie": [
           {
            "automargin": true,
            "type": "pie"
           }
          ],
          "scatter": [
           {
            "fillpattern": {
             "fillmode": "overlay",
             "size": 10,
             "solidity": 0.2
            },
            "type": "scatter"
           }
          ],
          "scatter3d": [
           {
            "line": {
             "colorbar": {
              "outlinewidth": 0,
              "ticks": ""
             }
            },
            "marker": {
             "colorbar": {
              "outlinewidth": 0,
              "ticks": ""
             }
            },
            "type": "scatter3d"
           }
          ],
          "scattercarpet": [
           {
            "marker": {
             "colorbar": {
              "outlinewidth": 0,
              "ticks": ""
             }
            },
            "type": "scattercarpet"
           }
          ],
          "scattergeo": [
           {
            "marker": {
             "colorbar": {
              "outlinewidth": 0,
              "ticks": ""
             }
            },
            "type": "scattergeo"
           }
          ],
          "scattergl": [
           {
            "marker": {
             "colorbar": {
              "outlinewidth": 0,
              "ticks": ""
             }
            },
            "type": "scattergl"
           }
          ],
          "scattermapbox": [
           {
            "marker": {
             "colorbar": {
              "outlinewidth": 0,
              "ticks": ""
             }
            },
            "type": "scattermapbox"
           }
          ],
          "scatterpolar": [
           {
            "marker": {
             "colorbar": {
              "outlinewidth": 0,
              "ticks": ""
             }
            },
            "type": "scatterpolar"
           }
          ],
          "scatterpolargl": [
           {
            "marker": {
             "colorbar": {
              "outlinewidth": 0,
              "ticks": ""
             }
            },
            "type": "scatterpolargl"
           }
          ],
          "scatterternary": [
           {
            "marker": {
             "colorbar": {
              "outlinewidth": 0,
              "ticks": ""
             }
            },
            "type": "scatterternary"
           }
          ],
          "surface": [
           {
            "colorbar": {
             "outlinewidth": 0,
             "ticks": ""
            },
            "colorscale": [
             [
              0,
              "#0d0887"
             ],
             [
              0.1111111111111111,
              "#46039f"
             ],
             [
              0.2222222222222222,
              "#7201a8"
             ],
             [
              0.3333333333333333,
              "#9c179e"
             ],
             [
              0.4444444444444444,
              "#bd3786"
             ],
             [
              0.5555555555555556,
              "#d8576b"
             ],
             [
              0.6666666666666666,
              "#ed7953"
             ],
             [
              0.7777777777777778,
              "#fb9f3a"
             ],
             [
              0.8888888888888888,
              "#fdca26"
             ],
             [
              1,
              "#f0f921"
             ]
            ],
            "type": "surface"
           }
          ],
          "table": [
           {
            "cells": {
             "fill": {
              "color": "#EBF0F8"
             },
             "line": {
              "color": "white"
             }
            },
            "header": {
             "fill": {
              "color": "#C8D4E3"
             },
             "line": {
              "color": "white"
             }
            },
            "type": "table"
           }
          ]
         },
         "layout": {
          "annotationdefaults": {
           "arrowcolor": "#2a3f5f",
           "arrowhead": 0,
           "arrowwidth": 1
          },
          "autotypenumbers": "strict",
          "coloraxis": {
           "colorbar": {
            "outlinewidth": 0,
            "ticks": ""
           }
          },
          "colorscale": {
           "diverging": [
            [
             0,
             "#8e0152"
            ],
            [
             0.1,
             "#c51b7d"
            ],
            [
             0.2,
             "#de77ae"
            ],
            [
             0.3,
             "#f1b6da"
            ],
            [
             0.4,
             "#fde0ef"
            ],
            [
             0.5,
             "#f7f7f7"
            ],
            [
             0.6,
             "#e6f5d0"
            ],
            [
             0.7,
             "#b8e186"
            ],
            [
             0.8,
             "#7fbc41"
            ],
            [
             0.9,
             "#4d9221"
            ],
            [
             1,
             "#276419"
            ]
           ],
           "sequential": [
            [
             0,
             "#0d0887"
            ],
            [
             0.1111111111111111,
             "#46039f"
            ],
            [
             0.2222222222222222,
             "#7201a8"
            ],
            [
             0.3333333333333333,
             "#9c179e"
            ],
            [
             0.4444444444444444,
             "#bd3786"
            ],
            [
             0.5555555555555556,
             "#d8576b"
            ],
            [
             0.6666666666666666,
             "#ed7953"
            ],
            [
             0.7777777777777778,
             "#fb9f3a"
            ],
            [
             0.8888888888888888,
             "#fdca26"
            ],
            [
             1,
             "#f0f921"
            ]
           ],
           "sequentialminus": [
            [
             0,
             "#0d0887"
            ],
            [
             0.1111111111111111,
             "#46039f"
            ],
            [
             0.2222222222222222,
             "#7201a8"
            ],
            [
             0.3333333333333333,
             "#9c179e"
            ],
            [
             0.4444444444444444,
             "#bd3786"
            ],
            [
             0.5555555555555556,
             "#d8576b"
            ],
            [
             0.6666666666666666,
             "#ed7953"
            ],
            [
             0.7777777777777778,
             "#fb9f3a"
            ],
            [
             0.8888888888888888,
             "#fdca26"
            ],
            [
             1,
             "#f0f921"
            ]
           ]
          },
          "colorway": [
           "#636efa",
           "#EF553B",
           "#00cc96",
           "#ab63fa",
           "#FFA15A",
           "#19d3f3",
           "#FF6692",
           "#B6E880",
           "#FF97FF",
           "#FECB52"
          ],
          "font": {
           "color": "#2a3f5f"
          },
          "geo": {
           "bgcolor": "white",
           "lakecolor": "white",
           "landcolor": "#E5ECF6",
           "showlakes": true,
           "showland": true,
           "subunitcolor": "white"
          },
          "hoverlabel": {
           "align": "left"
          },
          "hovermode": "closest",
          "mapbox": {
           "style": "light"
          },
          "paper_bgcolor": "white",
          "plot_bgcolor": "#E5ECF6",
          "polar": {
           "angularaxis": {
            "gridcolor": "white",
            "linecolor": "white",
            "ticks": ""
           },
           "bgcolor": "#E5ECF6",
           "radialaxis": {
            "gridcolor": "white",
            "linecolor": "white",
            "ticks": ""
           }
          },
          "scene": {
           "xaxis": {
            "backgroundcolor": "#E5ECF6",
            "gridcolor": "white",
            "gridwidth": 2,
            "linecolor": "white",
            "showbackground": true,
            "ticks": "",
            "zerolinecolor": "white"
           },
           "yaxis": {
            "backgroundcolor": "#E5ECF6",
            "gridcolor": "white",
            "gridwidth": 2,
            "linecolor": "white",
            "showbackground": true,
            "ticks": "",
            "zerolinecolor": "white"
           },
           "zaxis": {
            "backgroundcolor": "#E5ECF6",
            "gridcolor": "white",
            "gridwidth": 2,
            "linecolor": "white",
            "showbackground": true,
            "ticks": "",
            "zerolinecolor": "white"
           }
          },
          "shapedefaults": {
           "line": {
            "color": "#2a3f5f"
           }
          },
          "ternary": {
           "aaxis": {
            "gridcolor": "white",
            "linecolor": "white",
            "ticks": ""
           },
           "baxis": {
            "gridcolor": "white",
            "linecolor": "white",
            "ticks": ""
           },
           "bgcolor": "#E5ECF6",
           "caxis": {
            "gridcolor": "white",
            "linecolor": "white",
            "ticks": ""
           }
          },
          "title": {
           "x": 0.05
          },
          "xaxis": {
           "automargin": true,
           "gridcolor": "white",
           "linecolor": "white",
           "ticks": "",
           "title": {
            "standoff": 15
           },
           "zerolinecolor": "white",
           "zerolinewidth": 2
          },
          "yaxis": {
           "automargin": true,
           "gridcolor": "white",
           "linecolor": "white",
           "ticks": "",
           "title": {
            "standoff": 15
           },
           "zerolinecolor": "white",
           "zerolinewidth": 2
          }
         }
        },
        "title": {
         "text": "Overview of starting dataset",
         "x": 0.5,
         "y": 0.95
        },
        "width": 600
       }
      },
      "text/html": [
       "<div>                            <div id=\"2fe0df45-df41-4640-a336-d02ff239a0f5\" class=\"plotly-graph-div\" style=\"height:800px; width:600px;\"></div>            <script type=\"text/javascript\">                require([\"plotly\"], function(Plotly) {                    window.PLOTLYENV=window.PLOTLYENV || {};                                    if (document.getElementById(\"2fe0df45-df41-4640-a336-d02ff239a0f5\")) {                    Plotly.newPlot(                        \"2fe0df45-df41-4640-a336-d02ff239a0f5\",                        [{\"branchvalues\":\"total\",\"customdata\":[[\"J\\u00f8rgensen et. al. 2024\",\"Other\",\"HQ\",\"HQ\"],[\"J\\u00f8rgensen et. al. 2024\",\"(?)\",\"(?)\",\"(?)\"],[\"NCBI\",\"Streptomyces\",\"(?)\",\"(?)\"],[\"J\\u00f8rgensen et. al. 2024  (sourced from NCBI on 30 June 2023)\",\"Streptomyces\",\"MQ\",\"MQ\"],[\"J\\u00f8rgensen et. al. 2024\",\"Streptomyces\",\"(?)\",\"(?)\"],[\"NCBI\",\"Other\",\"(?)\",\"(?)\"],[\"J\\u00f8rgensen et. al. 2024  (sourced from NCBI on 30 June 2023)\",\"Other\",\"MQ\",\"MQ\"],[\"J\\u00f8rgensen et. al. 2024\",\"Other\",\"(?)\",\"(?)\"],[\"NCBI\",\"Streptomyces\",\"MQ\",\"MQ\"],[\"J\\u00f8rgensen et. al. 2024  (sourced from NCBI on 30 June 2023)\",\"Streptomyces\",\"MQ\",\"MQ\"],[\"J\\u00f8rgensen et. al. 2024\",\"Streptomyces\",\"MQ\",\"MQ\"],[\"J\\u00f8rgensen et. al. 2024  (sourced from NCBI on 30 June 2023)\",\"Other\",\"MQ\",\"MQ\"],[\"J\\u00f8rgensen et. al. 2024\",\"Other\",\"MQ\",\"MQ\"],[\"NCBI\",\"Streptomyces\",\"LQ\",\"LQ\"],[\"J\\u00f8rgensen et. al. 2024\",\"Streptomyces\",\"LQ\",\"LQ\"],[\"NCBI\",\"Other\",\"LQ\",\"LQ\"],[\"J\\u00f8rgensen et. al. 2024\",\"Other\",\"LQ\",\"LQ\"],[\"J\\u00f8rgensen et. al. 2024\",\"Streptomyces\",\"HQ\",\"HQ\"],[\"NCBI\",\"Other\",\"HQ\",\"HQ\"],[\"NCBI\",\"Other\",\"MQ\",\"MQ\"],[\"NCBI\",\"(?)\",\"(?)\",\"(?)\"],[\"J\\u00f8rgensen et. al. 2024  (sourced from NCBI on 30 June 2023)\",\"(?)\",\"MQ\",\"MQ\"],[\"NCBI\",\"Streptomyces\",\"HQ\",\"HQ\"]],\"domain\":{\"x\":[0.0,1.0],\"y\":[0.0,1.0]},\"hovertemplate\":\"\\u003cb\\u003e%{label} \\u003c\\u002fb\\u003e \\u003cbr\\u003e Count: %{value}\",\"ids\":[\"J\\u00f8rgensen et. al. 2024\\u002fOther\\u002fHQ\",\"J\\u00f8rgensen et. al. 2024\",\"NCBI\\u002fStreptomyces\",\"J\\u00f8rgensen et. al. 2024  (sourced from NCBI on 30 June 2023)\\u002fStreptomyces\",\"J\\u00f8rgensen et. al. 2024\\u002fStreptomyces\",\"NCBI\\u002fOther\",\"J\\u00f8rgensen et. al. 2024  (sourced from NCBI on 30 June 2023)\\u002fOther\",\"J\\u00f8rgensen et. al. 2024\\u002fOther\",\"NCBI\\u002fStreptomyces\\u002fMQ\",\"J\\u00f8rgensen et. al. 2024  (sourced from NCBI on 30 June 2023)\\u002fStreptomyces\\u002fMQ\",\"J\\u00f8rgensen et. al. 2024\\u002fStreptomyces\\u002fMQ\",\"J\\u00f8rgensen et. al. 2024  (sourced from NCBI on 30 June 2023)\\u002fOther\\u002fMQ\",\"J\\u00f8rgensen et. al. 2024\\u002fOther\\u002fMQ\",\"NCBI\\u002fStreptomyces\\u002fLQ\",\"J\\u00f8rgensen et. al. 2024\\u002fStreptomyces\\u002fLQ\",\"NCBI\\u002fOther\\u002fLQ\",\"J\\u00f8rgensen et. al. 2024\\u002fOther\\u002fLQ\",\"J\\u00f8rgensen et. al. 2024\\u002fStreptomyces\\u002fHQ\",\"NCBI\\u002fOther\\u002fHQ\",\"NCBI\\u002fOther\\u002fMQ\",\"NCBI\",\"J\\u00f8rgensen et. al. 2024  (sourced from NCBI on 30 June 2023)\",\"NCBI\\u002fStreptomyces\\u002fHQ\"],\"labels\":[\"HQ\",\"J\\u00f8rgensen et. al. 2024\",\"Streptomyces\",\"Streptomyces\",\"Streptomyces\",\"Other\",\"Other\",\"Other\",\"MQ\",\"MQ\",\"MQ\",\"MQ\",\"MQ\",\"LQ\",\"LQ\",\"LQ\",\"LQ\",\"HQ\",\"HQ\",\"MQ\",\"NCBI\",\"J\\u00f8rgensen et. al. 2024  (sourced from NCBI on 30 June 2023)\",\"HQ\"],\"marker\":{\"colors\":[\"#009E73\",\"#ab63fa\",\"#ab63fa\",\"#56B4E9\",\"#ab63fa\",\"#ab63fa\",\"#56B4E9\",\"#ab63fa\",\"#56B4E9\",\"#56B4E9\",\"#56B4E9\",\"#56B4E9\",\"#56B4E9\",\"#E69F00\",\"#E69F00\",\"#E69F00\",\"#E69F00\",\"#009E73\",\"#009E73\",\"#56B4E9\",\"#ab63fa\",\"#56B4E9\",\"#009E73\"]},\"name\":\"\",\"parents\":[\"J\\u00f8rgensen et. al. 2024\\u002fOther\",\"\",\"NCBI\",\"J\\u00f8rgensen et. al. 2024  (sourced from NCBI on 30 June 2023)\",\"J\\u00f8rgensen et. al. 2024\",\"NCBI\",\"J\\u00f8rgensen et. al. 2024  (sourced from NCBI on 30 June 2023)\",\"J\\u00f8rgensen et. al. 2024\",\"NCBI\\u002fStreptomyces\",\"J\\u00f8rgensen et. al. 2024  (sourced from NCBI on 30 June 2023)\\u002fStreptomyces\",\"J\\u00f8rgensen et. al. 2024\\u002fStreptomyces\",\"J\\u00f8rgensen et. al. 2024  (sourced from NCBI on 30 June 2023)\\u002fOther\",\"J\\u00f8rgensen et. al. 2024\\u002fOther\",\"NCBI\\u002fStreptomyces\",\"J\\u00f8rgensen et. al. 2024\\u002fStreptomyces\",\"NCBI\\u002fOther\",\"J\\u00f8rgensen et. al. 2024\\u002fOther\",\"J\\u00f8rgensen et. al. 2024\\u002fStreptomyces\",\"NCBI\\u002fOther\",\"NCBI\\u002fOther\",\"\",\"\",\"NCBI\\u002fStreptomyces\"],\"values\":[133,902,2694,117,758,123,4,144,1012,117,27,4,5,1194,4,60,6,727,13,50,2817,121,488],\"type\":\"treemap\",\"textfont\":{\"size\":12},\"textinfo\":\"label+text+value\",\"textposition\":\"top left\"}],                        {\"template\":{\"data\":{\"histogram2dcontour\":[{\"type\":\"histogram2dcontour\",\"colorbar\":{\"outlinewidth\":0,\"ticks\":\"\"},\"colorscale\":[[0.0,\"#0d0887\"],[0.1111111111111111,\"#46039f\"],[0.2222222222222222,\"#7201a8\"],[0.3333333333333333,\"#9c179e\"],[0.4444444444444444,\"#bd3786\"],[0.5555555555555556,\"#d8576b\"],[0.6666666666666666,\"#ed7953\"],[0.7777777777777778,\"#fb9f3a\"],[0.8888888888888888,\"#fdca26\"],[1.0,\"#f0f921\"]]}],\"choropleth\":[{\"type\":\"choropleth\",\"colorbar\":{\"outlinewidth\":0,\"ticks\":\"\"}}],\"histogram2d\":[{\"type\":\"histogram2d\",\"colorbar\":{\"outlinewidth\":0,\"ticks\":\"\"},\"colorscale\":[[0.0,\"#0d0887\"],[0.1111111111111111,\"#46039f\"],[0.2222222222222222,\"#7201a8\"],[0.3333333333333333,\"#9c179e\"],[0.4444444444444444,\"#bd3786\"],[0.5555555555555556,\"#d8576b\"],[0.6666666666666666,\"#ed7953\"],[0.7777777777777778,\"#fb9f3a\"],[0.8888888888888888,\"#fdca26\"],[1.0,\"#f0f921\"]]}],\"heatmap\":[{\"type\":\"heatmap\",\"colorbar\":{\"outlinewidth\":0,\"ticks\":\"\"},\"colorscale\":[[0.0,\"#0d0887\"],[0.1111111111111111,\"#46039f\"],[0.2222222222222222,\"#7201a8\"],[0.3333333333333333,\"#9c179e\"],[0.4444444444444444,\"#bd3786\"],[0.5555555555555556,\"#d8576b\"],[0.6666666666666666,\"#ed7953\"],[0.7777777777777778,\"#fb9f3a\"],[0.8888888888888888,\"#fdca26\"],[1.0,\"#f0f921\"]]}],\"heatmapgl\":[{\"type\":\"heatmapgl\",\"colorbar\":{\"outlinewidth\":0,\"ticks\":\"\"},\"colorscale\":[[0.0,\"#0d0887\"],[0.1111111111111111,\"#46039f\"],[0.2222222222222222,\"#7201a8\"],[0.3333333333333333,\"#9c179e\"],[0.4444444444444444,\"#bd3786\"],[0.5555555555555556,\"#d8576b\"],[0.6666666666666666,\"#ed7953\"],[0.7777777777777778,\"#fb9f3a\"],[0.8888888888888888,\"#fdca26\"],[1.0,\"#f0f921\"]]}],\"contourcarpet\":[{\"type\":\"contourcarpet\",\"colorbar\":{\"outlinewidth\":0,\"ticks\":\"\"}}],\"contour\":[{\"type\":\"contour\",\"colorbar\":{\"outlinewidth\":0,\"ticks\":\"\"},\"colorscale\":[[0.0,\"#0d0887\"],[0.1111111111111111,\"#46039f\"],[0.2222222222222222,\"#7201a8\"],[0.3333333333333333,\"#9c179e\"],[0.4444444444444444,\"#bd3786\"],[0.5555555555555556,\"#d8576b\"],[0.6666666666666666,\"#ed7953\"],[0.7777777777777778,\"#fb9f3a\"],[0.8888888888888888,\"#fdca26\"],[1.0,\"#f0f921\"]]}],\"surface\":[{\"type\":\"surface\",\"colorbar\":{\"outlinewidth\":0,\"ticks\":\"\"},\"colorscale\":[[0.0,\"#0d0887\"],[0.1111111111111111,\"#46039f\"],[0.2222222222222222,\"#7201a8\"],[0.3333333333333333,\"#9c179e\"],[0.4444444444444444,\"#bd3786\"],[0.5555555555555556,\"#d8576b\"],[0.6666666666666666,\"#ed7953\"],[0.7777777777777778,\"#fb9f3a\"],[0.8888888888888888,\"#fdca26\"],[1.0,\"#f0f921\"]]}],\"mesh3d\":[{\"type\":\"mesh3d\",\"colorbar\":{\"outlinewidth\":0,\"ticks\":\"\"}}],\"scatter\":[{\"fillpattern\":{\"fillmode\":\"overlay\",\"size\":10,\"solidity\":0.2},\"type\":\"scatter\"}],\"parcoords\":[{\"type\":\"parcoords\",\"line\":{\"colorbar\":{\"outlinewidth\":0,\"ticks\":\"\"}}}],\"scatterpolargl\":[{\"type\":\"scatterpolargl\",\"marker\":{\"colorbar\":{\"outlinewidth\":0,\"ticks\":\"\"}}}],\"bar\":[{\"error_x\":{\"color\":\"#2a3f5f\"},\"error_y\":{\"color\":\"#2a3f5f\"},\"marker\":{\"line\":{\"color\":\"#E5ECF6\",\"width\":0.5},\"pattern\":{\"fillmode\":\"overlay\",\"size\":10,\"solidity\":0.2}},\"type\":\"bar\"}],\"scattergeo\":[{\"type\":\"scattergeo\",\"marker\":{\"colorbar\":{\"outlinewidth\":0,\"ticks\":\"\"}}}],\"scatterpolar\":[{\"type\":\"scatterpolar\",\"marker\":{\"colorbar\":{\"outlinewidth\":0,\"ticks\":\"\"}}}],\"histogram\":[{\"marker\":{\"pattern\":{\"fillmode\":\"overlay\",\"size\":10,\"solidity\":0.2}},\"type\":\"histogram\"}],\"scattergl\":[{\"type\":\"scattergl\",\"marker\":{\"colorbar\":{\"outlinewidth\":0,\"ticks\":\"\"}}}],\"scatter3d\":[{\"type\":\"scatter3d\",\"line\":{\"colorbar\":{\"outlinewidth\":0,\"ticks\":\"\"}},\"marker\":{\"colorbar\":{\"outlinewidth\":0,\"ticks\":\"\"}}}],\"scattermapbox\":[{\"type\":\"scattermapbox\",\"marker\":{\"colorbar\":{\"outlinewidth\":0,\"ticks\":\"\"}}}],\"scatterternary\":[{\"type\":\"scatterternary\",\"marker\":{\"colorbar\":{\"outlinewidth\":0,\"ticks\":\"\"}}}],\"scattercarpet\":[{\"type\":\"scattercarpet\",\"marker\":{\"colorbar\":{\"outlinewidth\":0,\"ticks\":\"\"}}}],\"carpet\":[{\"aaxis\":{\"endlinecolor\":\"#2a3f5f\",\"gridcolor\":\"white\",\"linecolor\":\"white\",\"minorgridcolor\":\"white\",\"startlinecolor\":\"#2a3f5f\"},\"baxis\":{\"endlinecolor\":\"#2a3f5f\",\"gridcolor\":\"white\",\"linecolor\":\"white\",\"minorgridcolor\":\"white\",\"startlinecolor\":\"#2a3f5f\"},\"type\":\"carpet\"}],\"table\":[{\"cells\":{\"fill\":{\"color\":\"#EBF0F8\"},\"line\":{\"color\":\"white\"}},\"header\":{\"fill\":{\"color\":\"#C8D4E3\"},\"line\":{\"color\":\"white\"}},\"type\":\"table\"}],\"barpolar\":[{\"marker\":{\"line\":{\"color\":\"#E5ECF6\",\"width\":0.5},\"pattern\":{\"fillmode\":\"overlay\",\"size\":10,\"solidity\":0.2}},\"type\":\"barpolar\"}],\"pie\":[{\"automargin\":true,\"type\":\"pie\"}]},\"layout\":{\"autotypenumbers\":\"strict\",\"colorway\":[\"#636efa\",\"#EF553B\",\"#00cc96\",\"#ab63fa\",\"#FFA15A\",\"#19d3f3\",\"#FF6692\",\"#B6E880\",\"#FF97FF\",\"#FECB52\"],\"font\":{\"color\":\"#2a3f5f\"},\"hovermode\":\"closest\",\"hoverlabel\":{\"align\":\"left\"},\"paper_bgcolor\":\"white\",\"plot_bgcolor\":\"#E5ECF6\",\"polar\":{\"bgcolor\":\"#E5ECF6\",\"angularaxis\":{\"gridcolor\":\"white\",\"linecolor\":\"white\",\"ticks\":\"\"},\"radialaxis\":{\"gridcolor\":\"white\",\"linecolor\":\"white\",\"ticks\":\"\"}},\"ternary\":{\"bgcolor\":\"#E5ECF6\",\"aaxis\":{\"gridcolor\":\"white\",\"linecolor\":\"white\",\"ticks\":\"\"},\"baxis\":{\"gridcolor\":\"white\",\"linecolor\":\"white\",\"ticks\":\"\"},\"caxis\":{\"gridcolor\":\"white\",\"linecolor\":\"white\",\"ticks\":\"\"}},\"coloraxis\":{\"colorbar\":{\"outlinewidth\":0,\"ticks\":\"\"}},\"colorscale\":{\"sequential\":[[0.0,\"#0d0887\"],[0.1111111111111111,\"#46039f\"],[0.2222222222222222,\"#7201a8\"],[0.3333333333333333,\"#9c179e\"],[0.4444444444444444,\"#bd3786\"],[0.5555555555555556,\"#d8576b\"],[0.6666666666666666,\"#ed7953\"],[0.7777777777777778,\"#fb9f3a\"],[0.8888888888888888,\"#fdca26\"],[1.0,\"#f0f921\"]],\"sequentialminus\":[[0.0,\"#0d0887\"],[0.1111111111111111,\"#46039f\"],[0.2222222222222222,\"#7201a8\"],[0.3333333333333333,\"#9c179e\"],[0.4444444444444444,\"#bd3786\"],[0.5555555555555556,\"#d8576b\"],[0.6666666666666666,\"#ed7953\"],[0.7777777777777778,\"#fb9f3a\"],[0.8888888888888888,\"#fdca26\"],[1.0,\"#f0f921\"]],\"diverging\":[[0,\"#8e0152\"],[0.1,\"#c51b7d\"],[0.2,\"#de77ae\"],[0.3,\"#f1b6da\"],[0.4,\"#fde0ef\"],[0.5,\"#f7f7f7\"],[0.6,\"#e6f5d0\"],[0.7,\"#b8e186\"],[0.8,\"#7fbc41\"],[0.9,\"#4d9221\"],[1,\"#276419\"]]},\"xaxis\":{\"gridcolor\":\"white\",\"linecolor\":\"white\",\"ticks\":\"\",\"title\":{\"standoff\":15},\"zerolinecolor\":\"white\",\"automargin\":true,\"zerolinewidth\":2},\"yaxis\":{\"gridcolor\":\"white\",\"linecolor\":\"white\",\"ticks\":\"\",\"title\":{\"standoff\":15},\"zerolinecolor\":\"white\",\"automargin\":true,\"zerolinewidth\":2},\"scene\":{\"xaxis\":{\"backgroundcolor\":\"#E5ECF6\",\"gridcolor\":\"white\",\"linecolor\":\"white\",\"showbackground\":true,\"ticks\":\"\",\"zerolinecolor\":\"white\",\"gridwidth\":2},\"yaxis\":{\"backgroundcolor\":\"#E5ECF6\",\"gridcolor\":\"white\",\"linecolor\":\"white\",\"showbackground\":true,\"ticks\":\"\",\"zerolinecolor\":\"white\",\"gridwidth\":2},\"zaxis\":{\"backgroundcolor\":\"#E5ECF6\",\"gridcolor\":\"white\",\"linecolor\":\"white\",\"showbackground\":true,\"ticks\":\"\",\"zerolinecolor\":\"white\",\"gridwidth\":2}},\"shapedefaults\":{\"line\":{\"color\":\"#2a3f5f\"}},\"annotationdefaults\":{\"arrowcolor\":\"#2a3f5f\",\"arrowhead\":0,\"arrowwidth\":1},\"geo\":{\"bgcolor\":\"white\",\"landcolor\":\"#E5ECF6\",\"subunitcolor\":\"white\",\"showland\":true,\"showlakes\":true,\"lakecolor\":\"white\"},\"title\":{\"x\":0.05},\"mapbox\":{\"style\":\"light\"}}},\"legend\":{\"tracegroupgap\":0},\"margin\":{\"t\":60},\"title\":{\"text\":\"Overview of starting dataset\",\"x\":0.5,\"y\":0.95},\"width\":600,\"height\":800},                        {\"responsive\": true}                    ).then(function(){\n",
       "                            \n",
       "var gd = document.getElementById('2fe0df45-df41-4640-a336-d02ff239a0f5');\n",
       "var x = new MutationObserver(function (mutations, observer) {{\n",
       "        var display = window.getComputedStyle(gd).display;\n",
       "        if (!display || display === 'none') {{\n",
       "            console.log([gd, 'removed!']);\n",
       "            Plotly.purge(gd);\n",
       "            observer.disconnect();\n",
       "        }}\n",
       "}});\n",
       "\n",
       "// Listen for the removal of the full notebook cells\n",
       "var notebookContainer = gd.closest('#notebook-container');\n",
       "if (notebookContainer) {{\n",
       "    x.observe(notebookContainer, {childList: true});\n",
       "}}\n",
       "\n",
       "// Listen for the clearing of the current output cell\n",
       "var outputEl = gd.closest('.output');\n",
       "if (outputEl) {{\n",
       "    x.observe(outputEl, {childList: true});\n",
       "}}\n",
       "\n",
       "                        })                };                });            </script>        </div>"
      ]
     },
     "metadata": {},
     "output_type": "display_data"
    }
   ],
   "source": [
    "import plotly.graph_objects as go\n",
    "df = df_filter_quality.copy()\n",
    "\n",
    "for genome_id in df.index:\n",
    "    genus = df.loc[genome_id, \"genus\"]\n",
    "    if genus == \"Streptomyces\":\n",
    "        df.loc[genome_id, \"genus_plot\"] = genus\n",
    "    else:\n",
    "        df.loc[genome_id, \"genus_plot\"] = \"Other\"\n",
    "# Define your color scheme\n",
    "color_dict = {\n",
    "    'LQ': '#E69F00',  # Orange\n",
    "    'MQ': '#56B4E9',  # Sky Blue\n",
    "    'HQ': '#009E73',  # Bluish Green\n",
    "}\n",
    "\n",
    "treemap_fig = px.treemap(df, path=['source', 'genus_plot', 'quality'], \n",
    "                 color='quality',  # Use 'quality' to determine color\n",
    "                 hover_data=['source', 'genus_plot', 'quality'],\n",
    "                 color_discrete_map=color_dict,\n",
    "                        )  # Use your color scheme\n",
    "\n",
    "treemap_fig.update_traces(textposition='top left', \n",
    "                  textinfo='label+text+value', \n",
    "                  hovertemplate='<b>%{label} </b> <br> Count: %{value}',\n",
    "                  textfont=dict(size=12)  # Adjust the font size of the text displayed in the boxes\n",
    "                 )\n",
    "\n",
    "\n",
    "# Add title, set size, and adjust title position\n",
    "treemap_fig.update_layout(\n",
    "    title_text=\"Overview of starting dataset\",\n",
    "    title_x=0.5,  # Center the title\n",
    "    title_y=0.95,  # Position the title right above the plot\n",
    "    width=600, \n",
    "    height=800\n",
    ")\n",
    "\n",
    "# Save as SVG\n",
    "treemap_fig.write_image(\"assets/figures/Figure_1/a.svg\")\n",
    "\n",
    "# Save as PNG\n",
    "treemap_fig.write_image(\"assets/figures/Figure_1/a.png\")\n",
    "\n",
    "treemap_fig.show()"
   ]
  },
  {
   "cell_type": "code",
   "execution_count": 102,
   "id": "0818f49c-e1cf-43c2-8621-7b02e9f9193e",
   "metadata": {},
   "outputs": [
    {
     "data": {
      "text/plain": [
       "source                                                       genus_plot    quality\n",
       "Jørgensen et. al. 2024                                       Other         HQ          133\n",
       "                                                                           LQ            6\n",
       "                                                                           MQ            5\n",
       "                                                             Streptomyces  HQ          727\n",
       "                                                                           LQ            4\n",
       "                                                                           MQ           27\n",
       "Jørgensen et. al. 2024  (sourced from NCBI on 30 June 2023)  Other         MQ            4\n",
       "                                                             Streptomyces  MQ          117\n",
       "NCBI                                                         Other         HQ           13\n",
       "                                                                           LQ           60\n",
       "                                                                           MQ           50\n",
       "                                                             Streptomyces  HQ          488\n",
       "                                                                           LQ         1194\n",
       "                                                                           MQ         1012\n",
       "Name: genus, dtype: int64"
      ]
     },
     "execution_count": 102,
     "metadata": {},
     "output_type": "execute_result"
    }
   ],
   "source": [
    "df.groupby(by=['source', 'genus_plot', 'quality']).count()[\"genus\"]"
   ]
  },
  {
   "cell_type": "code",
   "execution_count": null,
   "id": "3ece09e2-0945-4c13-b66d-d7090264e868",
   "metadata": {},
   "outputs": [],
   "source": []
  }
 ],
 "metadata": {
  "kernelspec": {
   "display_name": "Python 3 (ipykernel)",
   "language": "python",
   "name": "python3"
  },
  "language_info": {
   "codemirror_mode": {
    "name": "ipython",
    "version": 3
   },
   "file_extension": ".py",
   "mimetype": "text/x-python",
   "name": "python",
   "nbconvert_exporter": "python",
   "pygments_lexer": "ipython3",
   "version": "3.9.16"
  }
 },
 "nbformat": 4,
 "nbformat_minor": 5
}
