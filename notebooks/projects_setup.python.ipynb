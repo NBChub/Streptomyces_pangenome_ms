{
 "cells": [
  {
   "cell_type": "markdown",
   "id": "aa0f0d95-5e6b-436f-a971-9486d0841329",
   "metadata": {},
   "source": [
    "# Data collection and project setup\n",
    "\n",
    "Summary of data collection steps followed in the Streptomyces pangenome project. This notebook describes all the projects and BGCFlow runs carried out in the study.  "
   ]
  },
  {
   "cell_type": "code",
   "execution_count": null,
   "id": "d21448bb-afe9-4fdb-b964-2143a0ccd1e4",
   "metadata": {
    "tags": []
   },
   "outputs": [],
   "source": [
    "import pandas as pd\n",
    "from pathlib import Path\n",
    "import altair as alt\n",
    "import yaml\n",
    "import warnings\n",
    "import matplotlib.pyplot as plt\n",
    "warnings.filterwarnings('ignore')"
   ]
  },
  {
   "cell_type": "markdown",
   "id": "a46880a2-ae00-465d-a4c0-5b2fc4c41391",
   "metadata": {},
   "source": [
    "### File Configuration\n",
    "\n",
    "This include the path to directory of BGCFlow runs on the dataset."
   ]
  },
  {
   "cell_type": "code",
   "execution_count": null,
   "id": "bab09367-1019-4c03-9401-9693de605473",
   "metadata": {
    "tags": []
   },
   "outputs": [],
   "source": [
    "with open(\"config.yaml\", \"r\") as f:\n",
    "    notebook_configuration = yaml.safe_load(f)\n",
    "notebook_configuration"
   ]
  },
  {
   "cell_type": "markdown",
   "id": "8a3745d8-3c30-4792-aabd-5a1b10a0370b",
   "metadata": {},
   "source": [
    "# 1. Setup qc project with all genomes from NCBI\n",
    "\n",
    "2938 genome accessions were collected from the NCBI RefSeq database on the 30-06-2023 for genomes belonging to Streptomycetaceae family"
   ]
  },
  {
   "cell_type": "code",
   "execution_count": null,
   "id": "cb22bdea-1486-45e3-a1c3-499c0b6e20d1",
   "metadata": {},
   "outputs": [],
   "source": [
    "tables_dir = Path(\"assets/tables/\")\n",
    "ncbi_accn_table = tables_dir / \"streptomycetaceae_refseq_30062023.tsv\""
   ]
  },
  {
   "cell_type": "code",
   "execution_count": null,
   "id": "88d2228e-1020-4ab7-ae26-53db5d98584c",
   "metadata": {},
   "outputs": [],
   "source": [
    "df_ncbi_accn = pd.read_csv(ncbi_accn_table, sep=\"\\t\", index_col=2)\n",
    "df_ncbi_accn.head()"
   ]
  },
  {
   "cell_type": "code",
   "execution_count": null,
   "id": "312b6d2c-57ef-4e5c-9349-8449836f5585",
   "metadata": {},
   "outputs": [],
   "source": [
    "samples_columns = [\"source\",\"organism\",\"genus\",\"species\",\"strain\",\"closest_placement_reference\"]\n",
    "df_samples_strepto_ncbi_all = pd.DataFrame(index=df_ncbi_accn.index, columns=samples_columns)\n",
    "df_samples_strepto_ncbi_all.index.name = \"genome_id\"\n",
    "df_samples_strepto_ncbi_all.source = \"ncbi\"\n",
    "df_samples_strepto_ncbi_all.head()"
   ]
  },
  {
   "cell_type": "code",
   "execution_count": null,
   "id": "bc3a0e12-abbf-4c03-bfd4-52dbe7879d21",
   "metadata": {},
   "outputs": [],
   "source": [
    "df_samples_strepto_ncbi_all.to_csv(tables_dir / \"df_samples_strepto_ncbi_all.csv\")"
   ]
  },
  {
   "cell_type": "markdown",
   "id": "5a55e86c-aa7e-45fd-b7bc-6042e2818d67",
   "metadata": {},
   "source": [
    "### Setup the config project using BGCFlow wrapper\n",
    "\n",
    "Follow the guide to set up a project called \"qc_strepto_ncbi\" with about df_samples tables and project config with the following rules\n",
    "\n",
    "```\n",
    "cd bgcflow_dir\n",
    "bgcflow init --project qc_strepto_ncbi\n",
    "cp .examples/_genome_project_example/prokka-db.csv config/qc_strepto_ncbi/\n",
    "```"
   ]
  },
  {
   "cell_type": "code",
   "execution_count": null,
   "id": "bb9c9dce-20fe-4e6c-99fd-ce6731167069",
   "metadata": {
    "tags": []
   },
   "outputs": [],
   "source": [
    "# Write samples.csv table to config directory of qc_strepto_ncbi project\n",
    "bgcflow_dir = Path(notebook_configuration[\"bgcflow_dir\"])\n",
    "project_name_1 = \"qc_strepto_ncbi\"\n",
    "\n",
    "config_dir_1 = bgcflow_dir / f\"config/{project_name_1}\"\n",
    "df_samples.to_csv(config_dir / \"samples.csv\")"
   ]
  },
  {
   "cell_type": "markdown",
   "id": "aabd6101-d891-4400-ba38-bf7148dd95b8",
   "metadata": {},
   "source": [
    "## Update project_config\n",
    "\n",
    "Update the file `config/qc_strepto_ncbi/project_config.yaml` to allow seqfu rule on.\n",
    "\n",
    "Note that the latest release 214 of GTDB was used here with version 2.3.0 updated in the `workflow/envs/gtdbtk.yaml` file.\n",
    "\n",
    "```\n",
    "name: qc_strepto_ncbi\n",
    "pep_version: 2.1.0\n",
    "description: '2938 genome accessions were collected from the NCBI RefSeq database \n",
    "on the 30-06-2023 for genomes belonging to Streptomycetaceae family'\n",
    "sample_table: samples.csv\n",
    "prokka-db: 'prokka-db.csv'\n",
    "rules:\n",
    "  seqfu: true\n",
    "\n",
    "#### CUSTOM RULE CONFIGURATION ####\n",
    "rule_parameters:  install_gtdbtk:\n",
    "    release: \"214\"\n",
    "    release_version: \"214\"\n",
    "```"
   ]
  },
  {
   "cell_type": "markdown",
   "id": "61b3fef4-9946-4317-8077-01766caef602",
   "metadata": {},
   "source": [
    "## Evaluate the results of the above first BGCFlow run\n",
    "\n",
    "Key tables generated:\n",
    "\n",
    "1. df_ncbi_meta : NCBI metadata\n",
    "2. df_gtdb_meta: GTDB metadata for genomes available in the release 214\n",
    "3. df_seqfu_meta: Genome assembly statistics using seqfu rule"
   ]
  },
  {
   "cell_type": "code",
   "execution_count": null,
   "id": "0dbc4e7d-30c6-4649-a873-bf07eb84b3a7",
   "metadata": {},
   "outputs": [],
   "source": [
    "processed_dir_1 = bgcflow_dir / \"data\" / \"processed\" / project_name_1\n",
    "\n",
    "# Read output tables from the processed directory\n",
    "ncbi_meta_table_1 = processed_dir_1 / \"tables\"/ \"df_ncbi_meta.csv\"\n",
    "df_ncbi_meta_1 = pd.read_csv(ncbi_meta_table_1, index_col= 0)\n",
    "\n",
    "gtdb_meta_table_1 = processed_dir_1 / \"tables\"/ \"df_gtdb_meta.csv\"\n",
    "df_gtdb_meta_1 = pd.read_csv(gtdb_meta_table_1, index_col= 0)\n",
    "\n",
    "seqfu_meta_table_1 = processed_dir_1 / \"tables\"/ \"df_seqfu_stats.csv\"\n",
    "df_seqfu_meta_1 = pd.read_csv(seqfu_meta_table_1, index_col= 0)"
   ]
  },
  {
   "cell_type": "markdown",
   "id": "3c105562-57f2-4a50-a92c-ceb5702e4d37",
   "metadata": {},
   "source": [
    "### Genomes not found in GTDB \n",
    "\n",
    "A particular version of GTDB might not contain all of the genomes from NCBI. Some genomes dont have information on the CheckM. "
   ]
  },
  {
   "cell_type": "code",
   "execution_count": null,
   "id": "86f1d2b1-0502-46cc-b087-0d19c791960b",
   "metadata": {},
   "outputs": [],
   "source": [
    "df_gtdb_meta_1.detail.value_counts()"
   ]
  },
  {
   "cell_type": "code",
   "execution_count": null,
   "id": "193b7a2f-d9f6-4c96-89a4-d82ee441a408",
   "metadata": {},
   "outputs": [],
   "source": [
    "df_gtdb_meta_1.Genus.value_counts()"
   ]
  },
  {
   "cell_type": "code",
   "execution_count": null,
   "id": "9583576c-0006-4b86-8b8e-a8af318949ed",
   "metadata": {
    "scrolled": true
   },
   "outputs": [],
   "source": [
    "df_gtdb_absent = df_gtdb_meta_1[df_gtdb_meta_1.detail != \"Genome found\"]\n",
    "gtdb_absent_table = processed_dir_1 / \"tables\"/ \"df_gtdb_absent.csv\"\n",
    "\n",
    "df_gtdb_absent.to_csv(gtdb_absent_table)"
   ]
  },
  {
   "cell_type": "markdown",
   "id": "436d6cf9-354c-4b9e-a41e-6b1b90a9b012",
   "metadata": {},
   "source": [
    "# 2. Set up GTDBtk run for the remaining genomes\n",
    "\n",
    "In this second BGCFlow run, a project is setup to run GTDBTk and CheckM to assess the taxonomy and assembly quality for genomes not found in R214 version of GTDB server along with the genomes from the NBC strain collection.\n",
    "\n",
    "1. df_gtdb_absent : 396 NCBI genomes that were not found in the GTDB server.\n",
    "2. df_samples_NBC_1023: List of 1023 actinomycetes from the NBC collection. Note that some of these are redundant with NCBI database and thus are removed."
   ]
  },
  {
   "cell_type": "markdown",
   "id": "0c16f3c8-6feb-4a54-be64-4cc9a08634ea",
   "metadata": {},
   "source": [
    "### Setup the config project using BGCFlow wrapper\n",
    "\n",
    "Follow the guide to set up a project called \"qc_gtdbtk\" with samples tables and project config with the following rules\n",
    "\n",
    "```\n",
    "cd bgcflow_dir\n",
    "bgcflow init --project qc_gtdbtk\n",
    "cp .examples/_genome_project_example/prokka-db.csv config/qc_gtdbtk/\n",
    "```"
   ]
  },
  {
   "cell_type": "markdown",
   "id": "3ee75197-5f1f-4b8b-97a8-6312c8f060a2",
   "metadata": {},
   "source": [
    "## Update project_config\n",
    "\n",
    "Update the file `config/qc_strepto_ncbi/project_config.yaml` to allow seqfu rule on.\n",
    "\n",
    "Note that the latest release 214 of GTDB was used here with version 2.3.0 updated in the `workflow/envs/gtdbtk.yaml` file.\n",
    "\n",
    "```\n",
    "name: qc_gtdbtk\n",
    "pep_version: 2.1.0\n",
    "description: 'Project to assess taxonomy and assembly quality of 396 NCBI + 902 NBC genomes.'\n",
    "sample_table: samples.csv\n",
    "prokka-db: 'prokka-db.csv'\n",
    "rules:\n",
    "  seqfu: true\n",
    "  checkm: false\n",
    "  gtdbtk: false\n",
    "\n",
    "#### CUSTOM RULE CONFIGURATION ####\n",
    "rule_p  install_gtdbtk:\n",
    "    release: \"214\"lease: \"214\"\n",
    "    release_version: \"214\"\n",
    "\"```"
   ]
  },
  {
   "cell_type": "code",
   "execution_count": null,
   "id": "926e9049-3d7d-47b5-b5c0-8ad4c75b8efa",
   "metadata": {},
   "outputs": [],
   "source": [
    "# Write samples.csv table to config directory of qc_strepto_ncbi project\n",
    "project_name_2 = \"qc_gtdbtk\"\n",
    "\n",
    "config_dir_2 = bgcflow_dir / f\"config/{project_name_2}\""
   ]
  },
  {
   "cell_type": "code",
   "execution_count": null,
   "id": "e9e7a4c7-9304-4ef3-9a59-aee4798e2c24",
   "metadata": {},
   "outputs": [],
   "source": [
    "# Read NBC data file (manually created for custom genomes). Follow documentation of BGCFlow for custom samples.\n",
    "samples_NBC_table = config_dir_2 / \"samples_NBC_1023.csv\"\n",
    "df_samples_NBC_1023 = pd.read_csv(samples_NBC_table, index_col=0)"
   ]
  },
  {
   "cell_type": "markdown",
   "id": "28e6704c-bd0a-45f3-b2b9-362d64d1079d",
   "metadata": {},
   "source": [
    "### Remove redundant genomes\n",
    "\n",
    "As some of th NBC genomes were already part of NCBI dataset on 30 June 2023, we removed them from the custom project and kept the NCBI versions. All these genomes were part of the BioProject: PRJNA747871."
   ]
  },
  {
   "cell_type": "code",
   "execution_count": null,
   "id": "fb8a9f69-fd48-4021-91d5-da4405f04931",
   "metadata": {},
   "outputs": [],
   "source": [
    "redundant_strain_list = df_ncbi_meta_1[df_ncbi_meta_1.BioProject == \"PRJNA747871\"].strain.tolist()\n",
    "print(\"The number of genomes that were removed from NBC dataset:\", len(redundant_strain_list))\n",
    "df_samples_NBC_902 = df_samples_NBC_1023.drop(redundant_strain_list)"
   ]
  },
  {
   "cell_type": "code",
   "execution_count": null,
   "id": "ac641f80-699b-4fe7-b0d0-1a80d7e5b1d0",
   "metadata": {},
   "outputs": [],
   "source": [
    "df_ncbi_meta_1.assembly_level.value_counts()"
   ]
  },
  {
   "cell_type": "markdown",
   "id": "96ac14b0-7add-427d-98ad-d980c634e6c2",
   "metadata": {},
   "source": [
    "### Add fasta files for custom genomes\n",
    "\n",
    "The fasta files for all 902 genomes were manuaully added to the directory `data/raw/fasta/`."
   ]
  },
  {
   "cell_type": "markdown",
   "id": "f5c3c11c-7507-43b4-af3b-582c5a880758",
   "metadata": {},
   "source": [
    "### Combine the GTDBTk project \n",
    "\n",
    "Samples table for the GTDBTk project is created with the 902 NBC genomes and 396 NCBI genomes without taxonomic/ assembly quality informatio"
   ]
  },
  {
   "cell_type": "code",
   "execution_count": null,
   "id": "335aeb4a-1d57-4f42-9e3b-f94e530b78fd",
   "metadata": {},
   "outputs": [],
   "source": [
    "df_samples_gtdb_absent = df_samples_strepto_ncbi_all.loc[df_gtdb_absent.index,:] \n",
    "\n",
    "df_samples_gtdbtk = pd.concat([df_samples_NBC_902, df_samples_gtdb_absent])"
   ]
  },
  {
   "cell_type": "code",
   "execution_count": null,
   "id": "92c00b3e-ec1d-4351-b5e5-3a1e24af18cb",
   "metadata": {},
   "outputs": [],
   "source": [
    "# Save the samples tables\n",
    "df_samples_gtdb_absent.to_csv(config_dir_2/ \"samples_NCBI_gtdb_absent.csv\")\n",
    "df_samples_NBC_902.to_csv(config_dir_2/ \"samples_NBC_902.csv\")\n",
    "df_samples_gtdbtk.to_csv(config_dir_2/ \"samples.csv\")"
   ]
  },
  {
   "cell_type": "markdown",
   "id": "f4111f3c-8228-4141-8aa1-e899a733c662",
   "metadata": {},
   "source": [
    "## Evaluate the results of the above first BGCFlow run on gtdbtk\n",
    "\n",
    "Key tables generated:\n",
    "\n",
    "1. gtdbtk.bac120.summary.tsv: GTDB-Tk based taxonomic identification with version 214\n",
    "2. df_seqfu_stats: Genome assembly statistics using seqfu rule\n",
    "3. df_checkm_stats: Genome assembly statistics using CheckM rule"
   ]
  },
  {
   "cell_type": "code",
   "execution_count": null,
   "id": "f7cf6a32-25ae-484c-8f59-46853f84048b",
   "metadata": {},
   "outputs": [],
   "source": [
    "processed_dir_2 = bgcflow_dir / \"data\" / \"processed\" / project_name_2\n",
    "\n",
    "# Read output tables from the processed directory\n",
    "ncbi_meta_table_2 = processed_dir_2 / \"tables\"/ \"df_ncbi_meta.csv\"\n",
    "df_ncbi_meta_2 = pd.read_csv(ncbi_meta_table_2, index_col= 0)\n",
    "\n",
    "gtdb_meta_table_2 = processed_dir_2 / \"tables\"/ \"df_gtdb_meta.csv\"\n",
    "df_gtdb_meta_2 = pd.read_csv(gtdb_meta_table_2, index_col= 0)\n",
    "\n",
    "seqfu_meta_table_2 = processed_dir_2 / \"tables\"/ \"df_seqfu_stats.csv\"\n",
    "df_seqfu_meta_2 = pd.read_csv(seqfu_meta_table_2, index_col= 0)\n",
    "\n",
    "check_meta_table_2 = processed_dir_2 / \"tables\"/ \"df_checkm_stats.csv\"\n",
    "df_checkm_meta_2 = pd.read_csv(check_meta_table_2, index_col= 0)\n",
    "\n",
    "gtdbtk_meta_table_2 = processed_dir_2 / \"tables\"/ \"gtdbtk.bac120.summary.tsv\"\n",
    "df_gtdbtk_meta_2 = pd.read_csv(gtdbtk_meta_table_2, index_col= 0, sep=\"\\t\")"
   ]
  },
  {
   "cell_type": "code",
   "execution_count": null,
   "id": "f461054c-efdd-4f77-a336-93c854360060",
   "metadata": {},
   "outputs": [],
   "source": [
    "df_checkm_meta_2.sort_values(\"Completeness\")"
   ]
  },
  {
   "cell_type": "markdown",
   "id": "b4bf72ec-6d28-4738-92a6-bda0473db5e7",
   "metadata": {},
   "source": [
    "# 3. Rerun checkM on NBC_01635\n",
    "\n",
    "Above assessment showed that CheckM registered the completeness value of 0 for the genome NBC_01635. Thus, we reran CheckM only on this genome. \n",
    "\n",
    "NOTE: It seemed that translation table 4 was being used instead of 11. We manually edited the rule of checkM to use custom Prokka based gene annotation as input instead of fasta nucleotide file. "
   ]
  },
  {
   "cell_type": "markdown",
   "id": "53760f87-ed61-4f66-b294-5d65320371f4",
   "metadata": {},
   "source": [
    "### Setup the config project using BGCFlow wrapper\n",
    "\n",
    "Follow the guide to set up a project called \"checkm_rerun\" with samples tables and project config with the following rules\n",
    "\n",
    "```\n",
    "cd bgcflow_dir\n",
    "bgcflow init --project checkm_rerun\n",
    "cp .examples/_genome_project_example/prokka-db.csv config/checkm_rerun/\n",
    "```"
   ]
  },
  {
   "cell_type": "markdown",
   "id": "92778f80-f964-4b6b-a45a-c4d9e3f2f027",
   "metadata": {},
   "source": [
    "## Update project_config\n",
    "\n",
    "Update the file `config/checkm_rerun/project_config.yaml` to allow seqfu rule on.\n",
    "\n",
    "```\n",
    "name: qc_strepto_ncbi\n",
    "pep_version: 2.1.0\n",
    "description: 'CheckM rerun for the genome NBC_01635'\n",
    "sample_table: samples.csv\n",
    "prokka-db: 'prokka-db.csv'\n",
    "rules:\n",
    "  checkm: True\n",
    "```\n",
    "\n",
    "NOTE: We manually edited the rule of checkM to use custom Prokka based gene annotation as input instead of fasta nucleotide file. Thus the results will not be generated automatically.*"
   ]
  },
  {
   "cell_type": "code",
   "execution_count": null,
   "id": "067d4e3f-5656-4894-aab6-465cb31ce322",
   "metadata": {},
   "outputs": [],
   "source": [
    "# Write samples.csv table to config directory of qc_strepto_ncbi project\n",
    "project_name_3 = \"checkm_rerun\"\n",
    "\n",
    "config_dir_3 = bgcflow_dir / f\"config/{project_name_3}\"\n",
    "\n",
    "samples_columns = [\"source\",\"organism\",\"genus\",\"species\",\"strain\",\"closest_placement_reference\"]\n",
    "df_samples_checkm_rerun = pd.DataFrame(index=[\"NBC_01635\"], columns=samples_columns)\n",
    "df_samples_checkm_rerun.index.name = \"genome_id\"\n",
    "df_samples_checkm_rerun.loc[\"NBC_01635\", :] = df_samples_gtdbtk.loc[\"NBC_01635\", :]\n",
    "df_samples_checkm_rerun.to_csv(config_dir_3 / \"samples.csv\")"
   ]
  },
  {
   "cell_type": "code",
   "execution_count": null,
   "id": "cdffab9f-a28c-4362-bb40-1fe3c877b6ed",
   "metadata": {},
   "outputs": [],
   "source": [
    "processed_dir_3 = bgcflow_dir / \"data\" / \"processed\" / project_name_3\n",
    "\n",
    "check_meta_table_3 = processed_dir_3 / \"tables\"/ \"df_checkm_stats.csv\"\n",
    "df_checkm_meta_3 = pd.read_csv(check_meta_table_3, index_col= 0)"
   ]
  },
  {
   "cell_type": "markdown",
   "id": "11e9d562-9656-47e2-9c6b-6913d2c3f0ad",
   "metadata": {},
   "source": [
    "### Update the checkM table to include the updated results"
   ]
  },
  {
   "cell_type": "code",
   "execution_count": null,
   "id": "7791659c-79a4-4741-b5df-90de73637630",
   "metadata": {},
   "outputs": [],
   "source": [
    "df_checkm_meta_2.loc[\"NBC_01635\", :] = df_checkm_meta_3.loc[\"NBC_01635\", :]\n",
    "# df_checkm_meta_2.to_csv(processed_dir_2 / \"tables\" / \"df_checkm_stats_curated.csv\")"
   ]
  },
  {
   "cell_type": "markdown",
   "id": "d6d54270-9b68-4b95-8df5-6a1bc1bee12b",
   "metadata": {},
   "source": [
    "### Assess gtdbtk data and extract Streptomyces genus"
   ]
  },
  {
   "cell_type": "code",
   "execution_count": null,
   "id": "8222178f-dd42-4afd-a46b-9c46adebc681",
   "metadata": {},
   "outputs": [],
   "source": [
    "# Remove genomes without classification\n",
    "df_gtdb_meta = df_gtdb_meta_1.copy()\n",
    "df_gtdbtk_meta_2 = df_gtdbtk_meta_2[df_gtdbtk_meta_2.classification != \"Unclassified Bacteria\"]\n",
    "\n",
    "tax_mapping = {\"d\" : \"Domain\",\n",
    "              \"p\" : \"Phylum\",\n",
    "              \"c\" : \"Class\",\n",
    "              \"o\" : \"Order\",\n",
    "              \"f\" : \"Family\",\n",
    "              \"g\" : \"Genus\",\n",
    "              \"s\" : \"Organism\"}\n",
    "\n",
    "for index in df_gtdbtk_meta_2.index:\n",
    "    tax = [i for i in df_gtdbtk_meta_2.loc[index, \"classification\"].split(\";\")]\n",
    "    for level in tax:\n",
    "        key = level.split(\"__\")[0]\n",
    "        if key == \"g\":\n",
    "            genus = level.split(\"__\")[-1]\n",
    "        if level == \"s__\":\n",
    "            level = f\"s__{genus} sp.\"\n",
    "        df_gtdb_meta.loc[index, tax_mapping[key]] = level\n",
    "    df_gtdb_meta.loc[index, \"gtdb_release\"] = \"R214\"\n",
    "    df_gtdb_meta.loc[index, \"detail\"] = \"found using gtdbtk\"\n",
    "df_gtdb_meta.Species = [i.split()[-1] for i in df_gtdb_meta.Organism]"
   ]
  },
  {
   "cell_type": "code",
   "execution_count": null,
   "id": "e957df26-98db-454d-90a0-ae3109da8310",
   "metadata": {},
   "outputs": [],
   "source": [
    "df_gtdbtk_meta_curated_2 = df_gtdb_meta.loc[df_seqfu_meta_2.index,:]\n",
    "df_gtdbtk_meta_curated_2.to_csv(processed_dir_2/ \"tables\"/ \"df_gtdbtk_meta_curated.csv\")\n",
    "df_gtdb_meta.to_csv(processed_dir_1/ \"tables\"/ \"df_gtdb_meta_curated.csv\")"
   ]
  },
  {
   "cell_type": "markdown",
   "id": "427b2e0a-996b-4034-acc1-9370761c5e05",
   "metadata": {},
   "source": [
    "### Assess checkM, SeqFu data and define quality filters"
   ]
  },
  {
   "cell_type": "code",
   "execution_count": null,
   "id": "e12f9e4e-ec54-4637-aac1-6d89c32e8682",
   "metadata": {},
   "outputs": [],
   "source": [
    "df_seqfu_meta = df_seqfu_meta_1.combine_first(df_seqfu_meta_2)"
   ]
  },
  {
   "cell_type": "code",
   "execution_count": null,
   "id": "e3a61d0f-3a78-4894-90f2-fcf6be8ee067",
   "metadata": {},
   "outputs": [],
   "source": [
    "# Manually load NBC genomes assembly_level status\n",
    "df_nbc_assembly_level = pd.read_csv(config_dir_2/ \"df_nbc_assembly_level.csv\", index_col=0)"
   ]
  },
  {
   "cell_type": "code",
   "execution_count": null,
   "id": "4795249a-e181-45f2-b38e-0dacbfc2437e",
   "metadata": {
    "scrolled": true
   },
   "outputs": [],
   "source": [
    "df = pd.DataFrame(index=df_gtdb_meta.index, columns=[\"genome_id\", \"genus\", \"source\", \"species\", \"quality\", \"completeness\", \"contamination\", \"N50\", \"contigs\", \"genome_len\"])\n",
    "df[\"genome_id\"] = df.index\n",
    "\n",
    "\n",
    "for genome_id in df.index:\n",
    "    # Define genus\n",
    "    if genome_id in df_gtdb_meta.index:\n",
    "        genus = df_gtdb_meta.loc[genome_id, \"Genus\"].split(\"__\")[1]\n",
    "        species = df_gtdb_meta.loc[genome_id, \"Species\"]\n",
    "        \n",
    "        df.loc[genome_id, \"species\"] = species\n",
    "        df.loc[genome_id, \"genus\"] = genus\n",
    "    else:\n",
    "        print(genome_id, \"not found in df_gtdb_meta!\")\n",
    "        \n",
    "    # Define quality levels\n",
    "    if genome_id in df_ncbi_meta_1.index:\n",
    "        df.loc[genome_id, \"source\"] = \"NCBI\"\n",
    "        assembly_level = df_ncbi_meta_1.loc[genome_id, \"assembly_level\"]\n",
    "    else:\n",
    "        df.loc[genome_id, \"source\"] = \"NBC\"\n",
    "        if genome_id in df_nbc_assembly_level.index:\n",
    "            assembly_level = df_nbc_assembly_level.loc[genome_id, \"assembly_level\"]\n",
    "        else:\n",
    "            assembly_level = \"Complete Genome\"\n",
    "\n",
    "            \n",
    "    # Define checkM metrics of completeness and contamination\n",
    "    if genome_id in df_checkm_meta_2.index:\n",
    "        completeness = df_checkm_meta_2.loc[genome_id, \"Completeness\"]\n",
    "        contamination = df_checkm_meta_2.loc[genome_id, \"Contamination\"]\n",
    "    else:\n",
    "        completeness = df_gtdb_meta.loc[genome_id, \"checkm_completeness\"]\n",
    "        contamination = df_gtdb_meta.loc[genome_id, \"checkm_contamination\"]\n",
    "\n",
    "    df.loc[genome_id, 'completeness'] = completeness\n",
    "    df.loc[genome_id, 'contamination'] = contamination\n",
    "\n",
    "    # Define seqfu metrics of N50 and Contigs\n",
    "    df.loc[genome_id, 'N50'] = df_seqfu_meta.loc[genome_id, \"N50\"]\n",
    "    df.loc[genome_id, 'contigs'] = df_seqfu_meta.loc[genome_id, \"Count\"]\n",
    "    df.loc[genome_id, 'genome_len'] = df_seqfu_meta.loc[genome_id, \"Total\"]\n",
    "    df.loc[genome_id, 'gc'] = df_seqfu_meta.loc[genome_id, \"gc\"]\n",
    "\n",
    "    # Define the quality of genomes\n",
    "    if contamination > 5 or completeness < 90:\n",
    "        df.loc[genome_id, \"quality\"] = \"LQ\"\n",
    "        print(genome_id, \"removed.\", \"Contamination:\", contamination, \"Completeness:\",completeness)\n",
    "    else:\n",
    "        if assembly_level in [\"Complete Genome\", \"Chromosome\"]:\n",
    "            df.loc[genome_id, \"quality\"] = \"HQ\"\n",
    "        else:\n",
    "            contigs = df_seqfu_meta.loc[genome_id, \"Count\"]\n",
    "            N50 = df_seqfu_meta.loc[genome_id, \"N50\"]\n",
    "            if contigs <= 100 and  N50 >= 100000:\n",
    "                df.loc[genome_id, \"quality\"] = \"MQ\"\n",
    "            else:\n",
    "                print(genome_id, \"removed.\", \"Contigs:\", contigs, \"N50:\", N50)\n",
    "                df.loc[genome_id, \"quality\"] = \"LQ\"\n",
    "\n",
    "df_stats = df.copy()"
   ]
  },
  {
   "cell_type": "code",
   "execution_count": null,
   "id": "02cc349d-6d0e-44e2-ae09-8884839bcf81",
   "metadata": {},
   "outputs": [],
   "source": [
    "df_stats.quality.value_counts()"
   ]
  },
  {
   "cell_type": "markdown",
   "id": "26de514c-f23a-464b-a741-76dd4e29b888",
   "metadata": {},
   "source": [
    "# 4. Streptomyces genus medium quality project\n",
    "\n",
    "By following the above assessement, different quality filters were defined to select medium to high quality genomes for the next BGCFlow project called `mq_strepto`\n",
    "\n",
    "Low quality\n",
    "1. CheckM contamination > 5 %\n",
    "2. CheckM completeness < 90 %\n",
    "3. Number of contigs > 100\n",
    "4. N50 < 100 kb\n",
    "\n",
    "Medium quality\n",
    "1. NCBI assembly level = Cotig, Scaffold\n",
    "2. CheckM contamination <= 5 %\n",
    "3. CheckM completeness <= 90 %\n",
    "4. Number of contigs <= 100\n",
    "5. N50 >= 100 kb\n",
    "\n",
    "High quality\n",
    "1. NCBI assembly level = Complete genome, Chromosome\n",
    "2. CheckM contamination <= 5 %\n",
    "3. CheckM completeness <= 90 %\n",
    "4. Number of contigs <= 100\n",
    "5. N50 >= 100 kb\n",
    "\n",
    "\n",
    "\n",
    "\n",
    "\n",
    "\n"
   ]
  },
  {
   "cell_type": "markdown",
   "id": "24d962dc-1d78-4ee1-ac04-b30d813f6ce1",
   "metadata": {},
   "source": [
    "### Setup the config project using BGCFlow wrapper\n",
    "\n",
    "Follow the guide to set up a project called \"mq_strepto\" with samples tables and project config with the following rules\n",
    "\n",
    "```\n",
    "cd bgcflow_dir\n",
    "bgcflow init --project mq_strepto\n",
    "cp .examples/_genome_project_example/prokka-db.csv config/mq_strepto/\n",
    "```"
   ]
  },
  {
   "cell_type": "markdown",
   "id": "7fb1479c-b0dd-498f-a962-752f23851b04",
   "metadata": {},
   "source": [
    "## Update project_config\n",
    "\n",
    "Update the file `config/qc_strepto_ncbi/project_config.yaml` to allow seqfu rule on.\n",
    "\n",
    "Note that the latest release 214 of GTDB was used here with version 2.3.0 updated in the `workflow/envs/gtdbtk.yaml` file.\n",
    "\n",
    "```\n",
    "name: mq_strepto\n",
    "pep_version: 2.1.0\n",
    "description: 'Project to of 2371 genomes of medium to high quality genomes of Streptomyces genus.'\n",
    "sample_table: samples.csv\n",
    "prokka-db: 'prokka-db.csv'\n",
    "rules:\n",
    "  seqfu: true\n",
    "  mash: true\n",
    "  prokka: true\n",
    "\n",
    "#### CUSTOM RULE CONFIGURATION ####\n",
    "rule_p  install_gtdbtk:\n",
    "    release: \"214\"\n",
    "    release_version: \"214\"\n",
    "```"
   ]
  },
  {
   "cell_type": "code",
   "execution_count": null,
   "id": "fe63b48a-e49f-4dfe-b76a-eb36266a8145",
   "metadata": {},
   "outputs": [],
   "source": [
    "### Extract Streptomyces genus and MQ, HQ genomes"
   ]
  },
  {
   "cell_type": "code",
   "execution_count": null,
   "id": "cc5603cd-1b37-45e8-98fa-db90e7f5ff2e",
   "metadata": {},
   "outputs": [],
   "source": [
    "df_streptomyces = df_stats[df_stats.genus == \"Streptomyces\"]\n",
    "df_strepto_mq = df_streptomyces[df_streptomyces.quality.isin([\"HQ\", \"MQ\"])]\n",
    "df_strepto_mq.quality.value_counts()"
   ]
  },
  {
   "cell_type": "code",
   "execution_count": null,
   "id": "9a5e7891-6cca-4415-9d4b-983e38d4c88e",
   "metadata": {},
   "outputs": [],
   "source": [
    "df_samples_mq_ncbi = df_samples_strepto_ncbi_all.loc[df_strepto_mq[df_strepto_mq.source == \"NCBI\"].index,:] \n",
    "df_samples_mq_nbc = df_samples_NBC_902.loc[df_strepto_mq[df_strepto_mq.source == \"NBC\"].index,:] \n",
    "df_samples_mq_strepo = pd.concat([df_samples_mq_ncbi, df_samples_mq_nbc])\n",
    "df_samples_mq_strepo"
   ]
  },
  {
   "cell_type": "code",
   "execution_count": null,
   "id": "a69638a9-a92f-4c4d-ae49-5a5a3899cb6b",
   "metadata": {},
   "outputs": [],
   "source": [
    "df_strepto_mq.species.value_counts()[:40]"
   ]
  },
  {
   "cell_type": "code",
   "execution_count": null,
   "id": "8dbc2ccd-ee4d-41c7-9678-a1476f91466f",
   "metadata": {},
   "outputs": [],
   "source": [
    "import plotly.express as px\n",
    "\n",
    "df = df_strepto_mq.copy()\n",
    "\n",
    "# filter top 20 species\n",
    "top_species_names = species_counts[:20].index\n",
    "df_top_species = df[df['species'].isin(top_species_names)]\n",
    "\n",
    "# create a new column combining 'source' and 'quality'\n",
    "df_top_species['source_quality'] = df_top_species['source'] + '-' + df_top_species['quality']\n",
    "\n",
    "# compute total counts for each species\n",
    "species_total_counts = df_top_species['species'].value_counts()\n",
    "\n",
    "# sort species by total counts\n",
    "df_top_species['species'] = pd.Categorical(df_top_species['species'], categories=species_total_counts.index, ordered=True)\n",
    "\n",
    "fig = px.histogram(df_top_species, x=\"species\", color=\"source_quality\",\n",
    "                   barmode=\"stack\",\n",
    "                   title=\"Distribution of Top 20 Species by Source and Quality\",\n",
    "                   labels={'species':'Species', 'source_quality':'Source and Quality', 'count':'Count'})\n",
    "\n",
    "fig.update_layout(height=600, showlegend=True)\n",
    "fig.show()"
   ]
  },
  {
   "cell_type": "code",
   "execution_count": null,
   "id": "8b9f3d54-d0c6-4c31-8620-03b3c00bd4ca",
   "metadata": {},
   "outputs": [],
   "source": [
    "# Write samples.csv table to config directory of qc_strepto_ncbi project\n",
    "project_name_4 = \"mq_strepto\"\n",
    "config_dir_4 = bgcflow_dir / f\"config/{project_name_4}\"\n",
    "\n",
    "samples_mq_strepto_table = config_dir_4 / \"samples.csv\"\n",
    "# df_samples_mq_strepo.to_csv(samples_table)"
   ]
  },
  {
   "cell_type": "code",
   "execution_count": null,
   "id": "302ebf5d-c6c6-40bd-82b6-ac217e5ddc5d",
   "metadata": {},
   "outputs": [],
   "source": [
    "processed_dir_4 = bgcflow_dir / \"data\" / \"processed\" / project_name_4"
   ]
  },
  {
   "cell_type": "code",
   "execution_count": null,
   "id": "0c65ff33-88db-42c0-bc72-e7c0e8968bc5",
   "metadata": {},
   "outputs": [],
   "source": [
    "df_stats.to_csv(processed_dir_1 / \"tables\" / \"df_filters.csv\")\n",
    "df_stats.to_csv(processed_dir_2 / \"tables\" / \"df_filters.csv\")\n",
    "df_strepto_mq.to_csv(processed_dir_4 / \"tables\" / \"df_filters.csv\")"
   ]
  },
  {
   "cell_type": "markdown",
   "id": "3e111feb-3173-42eb-b9bf-7a8e61ed5f3d",
   "metadata": {},
   "source": [
    "# 5. Streptomyces Mash-cluster projects \n",
    "\n",
    "We used the MASH based clustering to define consistent Mash-clusters. Here a separate project can be created for each of the Mash-Cluster for detailed analysis. \n",
    "\n",
    "Here, it is required to already have done the Mash-clustering and table be stored at assets/table/df_mash_clusters_main_reduced.csv. This is just one example of M1 Mash-cluster, which can be extended to setup any other similar BGCFlow projects on the subset of genomes."
   ]
  },
  {
   "cell_type": "markdown",
   "id": "e6c6c46c-092c-407c-b516-2e2e363a247d",
   "metadata": {},
   "source": [
    "### Setup the config project using BGCFlow wrapper\n",
    "\n",
    "Follow the guide to set up a project called \"mq_strepto\" with samples tables and project config with the following rules\n",
    "\n",
    "```\n",
    "cd bgcflow_dir\n",
    "bgcflow init --project M1\n",
    "cp .examples/_genome_project_example/prokka-db.csv config/M1/\n",
    "```"
   ]
  },
  {
   "cell_type": "markdown",
   "id": "de3e46b5-5a47-4e04-947c-a62462b59c14",
   "metadata": {},
   "source": [
    "## Update project_config\n",
    "\n",
    "Update the file `config/M1/project_config.yaml` to allow seqfu rule on.\n",
    "\n",
    "```\n",
    "name: M1\n",
    "pep_version: 2.1.0\n",
    "description: 'Project to of individual Mash-cluster M1.'\n",
    "sample_table: samples.csv\n",
    "prokka-db: 'prokka-db.csv'\n",
    "rules:\n",
    "  seqfu: true\n",
    "  bigscape: true\n",
    "\n",
    "#### CUSTOM RULE CONFIGURATION ####\n",
    "rule_p  install_gtdbtk:\n",
    "    release: \"214\"\n",
    "    release_version: \"214\"\n",
    "```"
   ]
  },
  {
   "cell_type": "code",
   "execution_count": null,
   "id": "58a81928-d72b-49a4-b2fb-7815f53ef454",
   "metadata": {},
   "outputs": [],
   "source": [
    "samples_mq = bgcflow_dir / \"config\" / \"mq_strepto\" / \"samples.csv\"\n",
    "df_samples_mq = pd.read_csv(samples_mq, index_col= 0)"
   ]
  },
  {
   "cell_type": "code",
   "execution_count": null,
   "id": "0881759a-57fa-4524-a7a7-1c4d53795973",
   "metadata": {},
   "outputs": [],
   "source": [
    "df_mash_clusters = pd.read_csv(\"assets/tables/df_mash_clusters_main_reduced.csv\", index_col=0)\n",
    "cluster_list = sorted(df_mash_clusters.Cluster.unique())\n",
    "for cluster in cluster_list:\n",
    "    mash_cluster = \"M\" + str(cluster)\n",
    "    genome_list = df_mash_clusters[df_mash_clusters.Cluster == cluster].index.tolist()\n",
    "    df_samples_mash_cluster = df_samples_mq.loc[genome_list, :]\n",
    "    samples_phylo_table = bgcflow_dir / \"config\" / mash_cluster / \"samples.csv\"\n",
    "    df_samples_mash_cluster.to_csv(samples_phylo_table)"
   ]
  }
 ],
 "metadata": {
  "kernelspec": {
   "display_name": "Python 3 (ipykernel)",
   "language": "python",
   "name": "python3"
  },
  "language_info": {
   "codemirror_mode": {
    "name": "ipython",
    "version": 3
   },
   "file_extension": ".py",
   "mimetype": "text/x-python",
   "name": "python",
   "nbconvert_exporter": "python",
   "pygments_lexer": "ipython3",
   "version": "3.9.16"
  }
 },
 "nbformat": 4,
 "nbformat_minor": 5
}
