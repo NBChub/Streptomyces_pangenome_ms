{
 "cells": [
  {
   "cell_type": "markdown",
   "id": "bfb3fa1b-c45f-4556-a374-b379adf196d2",
   "metadata": {},
   "source": [
    "# GTDBTK tree"
   ]
  },
  {
   "cell_type": "code",
   "execution_count": 5,
   "id": "794da4b9-8250-4ab1-bece-af5e6fe721c9",
   "metadata": {},
   "outputs": [],
   "source": [
    "import os\n",
    "import pandas as pd\n",
    "import yaml\n",
    "from pathlib import Path"
   ]
  },
  {
   "cell_type": "code",
   "execution_count": 6,
   "id": "6d8b41f9-17b0-445e-9f78-514d44a11e14",
   "metadata": {},
   "outputs": [
    {
     "data": {
      "text/plain": [
       "{'bgcflow_dir': '/datadrive/bgcflow'}"
      ]
     },
     "execution_count": 6,
     "metadata": {},
     "output_type": "execute_result"
    }
   ],
   "source": [
    "with open(\"config.yaml\", \"r\") as f:\n",
    "    notebook_configuration = yaml.safe_load(f)\n",
    "notebook_configuration"
   ]
  },
  {
   "cell_type": "code",
   "execution_count": 8,
   "id": "3a418eda-874d-4c9d-8938-1abdbfc288e4",
   "metadata": {},
   "outputs": [],
   "source": [
    "bgcflow_dir = Path(notebook_configuration[\"bgcflow_dir\"])\n",
    "project_name = \"mq_strepto\""
   ]
  },
  {
   "cell_type": "code",
   "execution_count": 12,
   "id": "e9964bd7-f4f1-41a2-9698-f95bb6a2ac3a",
   "metadata": {},
   "outputs": [],
   "source": [
    "interim_dir = bgcflow_dir / \"data\" / \"interim\"\n",
    "processed_dir = bgcflow_dir / \"data\" / \"processed\"\n",
    "prokka_dir = interim_dir / \"prokka\"\n",
    "gtdb_meta_table = processed_dir / project_name / \"tables\" / \"df_gtdb_meta_curated.csv\""
   ]
  },
  {
   "cell_type": "code",
   "execution_count": 14,
   "id": "8f3e2bb2-1375-4631-905b-707c35d27a36",
   "metadata": {},
   "outputs": [],
   "source": [
    "df_gtdb_meta = pd.read_csv(gtdb_meta_table, index_col=0)"
   ]
  },
  {
   "cell_type": "code",
   "execution_count": 37,
   "id": "0ffe585e-ddd0-48cd-ba8b-f43cb7512df3",
   "metadata": {},
   "outputs": [],
   "source": [
    "denovo_gtdbtk_dir = interim_dir / \"gtdbtk\" / \"denovo_tree\"\n",
    "input_fasta_dir = denovo_gtdbtk_dir / \"input\" / \"faa\""
   ]
  },
  {
   "cell_type": "code",
   "execution_count": 38,
   "id": "84168765-5bc7-4c44-8ac1-e8c52130859c",
   "metadata": {},
   "outputs": [],
   "source": [
    "fasta_dir = interim_dir / \"fasta\""
   ]
  },
  {
   "cell_type": "code",
   "execution_count": 42,
   "id": "04ece634-5c4b-4176-92ae-1528a0658663",
   "metadata": {},
   "outputs": [],
   "source": [
    "for genome_id in df_gtdb_meta.index:\n",
    "    faa_filename = genome_id + \".faa\"\n",
    "    fasta_filename = \"g_\" + genome_id + \".faa\"\n",
    "    fasta_in = prokka_dir / genome_id / faa_filename\n",
    "    fasta_out = input_fasta_dir / fasta_filename\n",
    "    # Create symlink\n",
    "    os.symlink(fasta_in, fasta_out)"
   ]
  },
  {
   "cell_type": "code",
   "execution_count": 43,
   "id": "9b36ddfc-c6d4-49b6-a912-6ffff078e1ac",
   "metadata": {},
   "outputs": [],
   "source": [
    "# Outgroup fasta\n",
    "genome_id = \"GCF_000269985.1\"\n",
    "faa_filename = genome_id + \".faa\"\n",
    "fasta_filename = \"g_\" + genome_id + \".faa\"\n",
    "fasta_in = prokka_dir / genome_id / faa_filename\n",
    "fasta_out = input_fasta_dir / fasta_filename\n",
    "# Create symlink\n",
    "os.symlink(fasta_in, fasta_out)"
   ]
  },
  {
   "cell_type": "code",
   "execution_count": null,
   "id": "c4777658-de20-451d-bbcf-9d96738711b9",
   "metadata": {},
   "outputs": [],
   "source": [
    "df_gtdb_all = pd.read_csv()"
   ]
  }
 ],
 "metadata": {
  "kernelspec": {
   "display_name": "Python 3 (ipykernel)",
   "language": "python",
   "name": "python3"
  },
  "language_info": {
   "codemirror_mode": {
    "name": "ipython",
    "version": 3
   },
   "file_extension": ".py",
   "mimetype": "text/x-python",
   "name": "python",
   "nbconvert_exporter": "python",
   "pygments_lexer": "ipython3",
   "version": "3.9.16"
  }
 },
 "nbformat": 4,
 "nbformat_minor": 5
}
