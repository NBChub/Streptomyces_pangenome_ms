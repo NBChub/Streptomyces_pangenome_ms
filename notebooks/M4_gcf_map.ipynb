{
 "cells": [
  {
   "cell_type": "markdown",
   "id": "3f0ef035-d9c7-4f36-afd6-a747fa736bc7",
   "metadata": {},
   "source": [
    "# Overview map of GCFs in M4 phylogroup"
   ]
  },
  {
   "cell_type": "code",
   "execution_count": 1,
   "id": "cec1049c-0236-483c-84ce-68e9db63b9e2",
   "metadata": {},
   "outputs": [],
   "source": [
    "import os\n",
    "import pandas as pd\n",
    "import yaml\n",
    "from pathlib import Path\n",
    "import seaborn as sns\n",
    "import matplotlib.pyplot as plt"
   ]
  },
  {
   "cell_type": "code",
   "execution_count": null,
   "id": "93bf9ea5-1ee2-4570-90ad-343b8063604c",
   "metadata": {},
   "outputs": [],
   "source": [
    "with open(\"config.yaml\", \"r\") as f:\n",
    "    notebook_configuration = yaml.safe_load(f)\n",
    "notebook_configuration"
   ]
  },
  {
   "cell_type": "code",
   "execution_count": 3,
   "id": "b9daafcf-552d-48ac-b47e-5f436108a995",
   "metadata": {},
   "outputs": [],
   "source": [
    "# Write samples.csv table to config directory of qc_strepto_ncbi project\n",
    "bgcflow_dir = Path(notebook_configuration[\"bgcflow_dir\"])\n",
    "project_name_1 = \"mq_strepto\"\n",
    "processed_dir_1 = bgcflow_dir / \"data\" / \"processed\" / project_name_1\n",
    "\n",
    "# Read output tables from the processed directory\n",
    "ncbi_meta_table = processed_dir_1 / \"tables\"/ \"df_ncbi_meta.csv\"\n",
    "df_ncbi_meta = pd.read_csv(ncbi_meta_table, index_col= 0)\n",
    "\n",
    "gtdb_meta_table = processed_dir_1 / \"tables\"/ \"df_gtdb_meta_curated.csv\"\n",
    "df_gtdb_meta = pd.read_csv(gtdb_meta_table, index_col= 0)\n",
    "\n",
    "seqfu_meta_table = processed_dir_1 / \"tables\"/ \"df_seqfu_stats.csv\"\n",
    "df_seqfu_meta = pd.read_csv(seqfu_meta_table, index_col= 0)\n",
    "\n",
    "mash_table = processed_dir_1 / \"mash\"/ \"df_mash.csv\"\n",
    "df_mash = pd.read_csv(mash_table, index_col= 0)\n",
    "\n",
    "df_clusters = pd.read_csv(\"assets/tables/df_clusters.csv\", index_col=0)\n",
    "\n",
    "filters_table = processed_dir_1 / \"tables\" / \"df_filters.csv\"\n",
    "df_filter_quality = pd.read_csv(filters_table, index_col=0)\n",
    "\n",
    "antismash_summary_table = processed_dir_1 / \"tables\" / \"df_antismash_7.0.0_summary.csv\"\n",
    "df_antismash_summary = pd.read_csv(antismash_summary_table, index_col=0, low_memory=False)\n",
    "\n",
    "bgcs_summary_table = processed_dir_1 / \"tables\" / \"df_regions_antismash_7.0.0.csv\"\n",
    "df_bgcs_antismash = pd.read_csv(bgcs_summary_table, index_col=0)\n",
    "\n",
    "arts_table = processed_dir_1 / \"tables\" / \"df_arts_as-7.0.0.csv\"\n",
    "df_arts = pd.read_csv(arts_table, index_col=0)\n",
    "df_clusters[\"Subcluster_label\"] = df_clusters.Subcluster_label.fillna(\"NA\")\n",
    "df_clusters[\"Cluster_label\"] = df_clusters.Subcluster_label.fillna(\"NA\")\n",
    "\n",
    "# Read bigslice results\n",
    "df_gcf_presence = pd.read_csv(processed_dir_1 / \"bigslice\" / \"cluster_as_7.0.0\" / \"df_gcf_presence_combined.csv\", index_col=0)\n",
    "df_gcfs_bigslice = pd.read_csv(processed_dir_1 / \"bigslice\" / \"cluster_as_7.0.0\" / \"df_gcfs_combined.csv\",index_col=0) \n",
    "df_bgcs_bigslice = pd.read_csv(processed_dir_1 / \"bigslice\" / \"cluster_as_7.0.0\" / \"df_bgcs_curated_with_combined.csv\", index_col=0) "
   ]
  },
  {
   "cell_type": "code",
   "execution_count": 4,
   "id": "1f1ee4ce-1de4-42ab-8577-1f3ff605721e",
   "metadata": {},
   "outputs": [],
   "source": [
    "project_name_2 = \"M4\"\n",
    "processed_dir_2 = bgcflow_dir / \"data\" / \"processed\" / project_name_2\n",
    "\n",
    "antismash_summary_table_2 = processed_dir_2 / \"tables\" / \"df_antismash_7.0.0_summary.csv\"\n",
    "df_antismash_summary_phylo = pd.read_csv(antismash_summary_table_2, index_col=0, low_memory=False)\n",
    "\n",
    "bgcs_summary_table_2 = processed_dir_2 / \"tables\" / \"df_regions_antismash_7.0.0.csv\"\n",
    "df_bgcs_antismash_phylo = pd.read_csv(bgcs_summary_table_2, index_col=0)\n",
    "\n",
    "bigscape_bgcs_summary_table_2 = processed_dir_2 / \"bigscape\" / \"for_cytoscape_antismash_7.0.0\"/ \"2023-08-04 18_19_14_df_clusters_0.30.csv\"\n",
    "df_bgcs_bigscape_phylo = pd.read_csv(bigscape_bgcs_summary_table_2, index_col=0) \n",
    "\n",
    "bigscape_net_table_2 = processed_dir_2 / \"bigscape\" / \"for_cytoscape_antismash_7.0.0\"/ \"2023-08-04 18_19_14_df_network_0.30.csv\"\n",
    "df_bigscape_net_phylo = pd.read_csv(bigscape_net_table_2, index_col=0) \n",
    "\n",
    "bigscape_gcfs_summary_table_2 = processed_dir_2 / \"bigscape\" / \"for_cytoscape_antismash_7.0.0\"/ \"2023-08-04 18_19_14_df_families_0.30.csv\"\n",
    "df_gcfs_bigscape_phylo = pd.read_csv(bigscape_gcfs_summary_table_2, index_col=0) \n",
    "\n",
    "bigscape_gcfs_presence_table_2 = processed_dir_2 / \"bigscape\" / \"for_cytoscape_antismash_7.0.0\"/ \"2023-08-04 18_19_14_df_family_presence_0.30.csv\"\n",
    "df_gcfs_presence_phylo = pd.read_csv(bigscape_gcfs_presence_table_2, index_col=0) "
   ]
  },
  {
   "cell_type": "code",
   "execution_count": 5,
   "id": "9734dfe8-c80c-4ddb-8f79-b12edd499153",
   "metadata": {},
   "outputs": [],
   "source": [
    "df_gcfs_presence_bigslice_phylo = df_gcf_presence.loc[df_antismash_summary_phylo.index, :]\n",
    "df_gcfs_presence_bigslice_phylo = df_gcfs_presence_bigslice_phylo.loc[:, df_gcfs_presence_bigslice_phylo.sum(0) > 0]\n",
    "df_gcfs_bigslice_phylo = df_gcfs_bigslice.loc[df_gcfs_presence_bigslice_phylo.columns,:]\n",
    "df_bgcs_bigslice_phylo = df_bgcs_bigslice.loc[df_bgcs_antismash_phylo.index,:]"
   ]
  },
  {
   "cell_type": "code",
   "execution_count": 6,
   "id": "51fbc54b-e0ef-49cd-97ef-96ca4ce8c498",
   "metadata": {},
   "outputs": [],
   "source": [
    "df_genomes_phylo = df_filter_quality.loc[df_antismash_summary_phylo.index,:]"
   ]
  },
  {
   "cell_type": "markdown",
   "id": "4a598d50-f793-408b-bf0f-ed1abec60997",
   "metadata": {},
   "source": [
    "# Expand the bigscape network with additional connections"
   ]
  },
  {
   "cell_type": "markdown",
   "id": "06ab6a41-e3f1-410f-a00b-f0bafa458cff",
   "metadata": {},
   "source": [
    "### Add connection to neighbouring BGCs"
   ]
  },
  {
   "cell_type": "code",
   "execution_count": 7,
   "id": "4d9bc4c1-02a6-435b-b539-5c5ddbe780f0",
   "metadata": {},
   "outputs": [],
   "source": [
    "accn_list = df_bgcs_antismash_phylo.accession.value_counts().index.tolist()\n",
    "max_id = df_bigscape_net_phylo.index.max()\n",
    "\n",
    "for accession in accn_list:\n",
    "    df_bgcs_selected = df_bgcs_antismash_phylo[df_bgcs_antismash_phylo.accession == accession]\n",
    "    for idx in range(df_bgcs_selected.shape[0] - 1):\n",
    "        max_id = max_id + 1\n",
    "        df_bigscape_net_phylo.loc[max_id, \"Clustername 1\"] = df_bgcs_selected.index[idx]\n",
    "        df_bigscape_net_phylo.loc[max_id, \"Clustername 2\"] = df_bgcs_selected.index[idx + 1]\n",
    "        df_bigscape_net_phylo.loc[max_id, \"Neighbours\"] = \"Yes\""
   ]
  },
  {
   "cell_type": "code",
   "execution_count": 8,
   "id": "fb5f4381-629d-4d3a-8f5c-1179a2983026",
   "metadata": {},
   "outputs": [],
   "source": [
    "# Add BiGSLICE GCF nodes and antismash known simialirity \n",
    "max_id = df_bigscape_net_phylo.index.max()\n",
    "for bgc_id in df_bgcs_bigslice_phylo.index:\n",
    "    max_id = max_id + 1\n",
    "    df_bigscape_net_phylo.loc[max_id, \"Clustername 1\"] = bgc_id\n",
    "    df_bigscape_net_phylo.loc[max_id, \"Clustername 2\"] = df_bgcs_bigslice_phylo.loc[bgc_id, \"gcf_combined_id\"]\n",
    "    df_bigscape_net_phylo.loc[max_id, \"bigslice_model\"] = df_bgcs_bigslice_phylo.loc[bgc_id, \"gcf_combined_id\"]\n",
    "\n",
    "    if df_bgcs_antismash_phylo.loc[bgc_id, \"similarity\"] > 0.2:\n",
    "        max_id = max_id + 1\n",
    "        df_bigscape_net_phylo.loc[max_id, \"Clustername 1\"] = bgc_id\n",
    "        df_bigscape_net_phylo.loc[max_id, \"Clustername 2\"] = df_bgcs_antismash_phylo.loc[bgc_id, \"most_similar_known_cluster_id\"]\n",
    "        df_bigscape_net_phylo.loc[max_id, \"known_cluster_blast\"] = df_bgcs_antismash_phylo.loc[bgc_id, \"similarity\"]    "
   ]
  },
  {
   "cell_type": "code",
   "execution_count": 9,
   "id": "4d900e99-2461-4075-baaf-83f347f645ef",
   "metadata": {},
   "outputs": [],
   "source": [
    "bigscape_net_table_enriched = processed_dir_2 / \"bigscape\" / \"for_cytoscape_antismash_7.0.0\"/ \"df_network_0.30_enriched.csv\"\n",
    "df_bigscape_net_phylo.to_csv(bigscape_net_table_enriched)"
   ]
  },
  {
   "cell_type": "code",
   "execution_count": null,
   "id": "9789961c-893e-4ca1-b528-a1e13c5f28c6",
   "metadata": {},
   "outputs": [],
   "source": [
    "## Create HQ project\n",
    "df_samples = pd.read_csv(\"/datadrive/bgcflow/config/M4_hq/samples.csv\", index_col=0)\n",
    "df_samples_hq = df_samples.loc[df_genomes_phylo_hq.index,:]\n",
    "df_samples_hq.to_csv(\"/datadrive/bgcflow/config/M4_hq/samples.csv\")"
   ]
  },
  {
   "cell_type": "markdown",
   "id": "21517cd9-fff7-4010-81e9-ca81b6a58aa5",
   "metadata": {},
   "source": [
    "## Create network with GCFs"
   ]
  },
  {
   "cell_type": "code",
   "execution_count": 10,
   "id": "4ed9711d-5fbf-4305-80c1-b23d1feb2fd2",
   "metadata": {},
   "outputs": [],
   "source": [
    "df_genomes_phylo_hq = df_genomes_phylo[df_genomes_phylo.quality == \"HQ\"]\n",
    "df_bgcs_antismash_phylo_hq = df_bgcs_antismash_phylo[df_bgcs_antismash_phylo.genome_id.isin(df_genomes_phylo_hq.index)]"
   ]
  },
  {
   "cell_type": "code",
   "execution_count": null,
   "id": "78cb7140-b49f-42ba-94a3-0f0514478b4e",
   "metadata": {},
   "outputs": [],
   "source": [
    "df_bgcs_bigslice.loc[\"NZ_CP047147.1.region019\", :]"
   ]
  },
  {
   "cell_type": "code",
   "execution_count": null,
   "id": "91a2a490-98db-46c6-9354-0f6fd2f031b0",
   "metadata": {},
   "outputs": [],
   "source": [
    "df_genomes_sel = df_clusters.loc[df_bgcs_bigslice[df_bgcs_bigslice.gcf_id == 7818].genome_id,:]\n",
    "# df_genomes_sel = df_genomes_sel[df_genomes_sel.Cluster != 4]\n"
   ]
  },
  {
   "cell_type": "code",
   "execution_count": null,
   "id": "46e89483-e656-4940-b89c-d55e407c2604",
   "metadata": {},
   "outputs": [],
   "source": [
    "df_bgcs_bigslice_phylo_hq = df_bgcs_bigslice.loc[df_bgcs_antismash_phylo_hq.index,:]\n",
    "df_bgcs_bigscape_phylo_hq = df_bgcs_bigscape_phylo.loc[df_bgcs_antismash_phylo_hq.index,:]"
   ]
  },
  {
   "cell_type": "code",
   "execution_count": null,
   "id": "30f7aaf6-8da5-4c9a-9efa-ae605e21286b",
   "metadata": {},
   "outputs": [],
   "source": [
    "df_bgcs_cyclofaulknamycin = df_bgcs_bigslice[df_bgcs_bigslice.gcf_combined_id == \"BGC0002358\"]\n",
    "genome_selected = df_bgcs_cyclofaulknamycin[df_bgcs_cyclofaulknamycin.similarity > 0.5].genome_id.unique()\n",
    "df_clusters.loc[genome_selected,:].Cluster_label.value_counts()"
   ]
  },
  {
   "cell_type": "code",
   "execution_count": null,
   "id": "ffd64155-f7c0-4e77-9cb6-c2a45a1c68fe",
   "metadata": {},
   "outputs": [],
   "source": [
    "df_bgcs_cyclofaulknamycin = df_bgcs_antismash[df_bgcs_antismash.most_similar_known_cluster_id == \"BGC0002358\"]\n",
    "genome_selected = df_bgcs_cyclofaulknamycin[df_bgcs_cyclofaulknamycin.similarity > 0.5].genome_id.unique()\n",
    "df_clusters.loc[genome_selected,:].Cluster_label.value_counts()"
   ]
  },
  {
   "cell_type": "markdown",
   "id": "5cd7b1c6-f32b-41a8-83fb-c90972caad73",
   "metadata": {},
   "source": [
    "# autoMLST tree"
   ]
  },
  {
   "cell_type": "code",
   "execution_count": 14,
   "id": "b1708ac5-2e27-49c9-94a7-11e7ed8f42db",
   "metadata": {},
   "outputs": [],
   "source": [
    "automlst_tree_path = processed_dir_2 / \"automlst_wrapper\" / \"final.newick\"\n",
    "with open(automlst_tree_path, \"r\") as f:\n",
    "    data = f.readlines()\n",
    "\n",
    "value_to_replace = [i.split(\":\")[0] for i in data[0].replace(\"(\", \"\").split(\",\")]\n",
    "\n",
    "new_dict = {}\n",
    "df = pd.read_csv(processed_dir_2 / \"automlst_wrapper/df_genomes_tree.csv\")\n",
    "genome_ids = list(df.genome_id)\n",
    "for g in genome_ids:\n",
    "    for v in value_to_replace:\n",
    "        if v.startswith(g.split(\".\")[0]):\n",
    "            new_dict[v] = g\n",
    "            value_to_replace.remove(v)\n",
    "\n",
    "data = data[0]\n",
    "for k in new_dict.keys():\n",
    "    data = data.replace(k, new_dict[k])\n",
    "\n",
    "automlst_tree_corrected_path = processed_dir_2 / \"automlst_wrapper/final_corrected.newick\"\n",
    "with open(automlst_tree_corrected_path, \"w\") as f:\n",
    "    f.write(data)"
   ]
  },
  {
   "cell_type": "code",
   "execution_count": 15,
   "id": "cc311026-7610-409b-9405-c6cf30dcf706",
   "metadata": {},
   "outputs": [],
   "source": [
    "phylo_genome_len_bar_path = processed_dir_2 / \"iTOL\" / 'df_automlst_genome_len.csv'\n",
    "phylo_colored_range_path =  processed_dir_2 / \"iTOL\" / 'df_automlst_colored_range.csv'\n",
    "phylo_subclusters_path = processed_dir_2 / \"iTOL\" / 'df_automlst_color_strip_subclusters.csv'\n",
    "phylo_filters_path = processed_dir_2 / \"iTOL\" / 'df_automlst_color_strip_filters.csv'\n",
    "phylo_silhouette_path = processed_dir_2 / \"iTOL\" / 'df_automlst_color_strip_silhouette.csv'"
   ]
  },
  {
   "cell_type": "code",
   "execution_count": 18,
   "id": "769d4abd-69d9-4018-9f89-894115d1b29f",
   "metadata": {},
   "outputs": [],
   "source": [
    "genome_ids_M4 = df_genomes_phylo.index\n",
    "df_phylo_genome_len = pd.DataFrame(index= genome_ids_M4)\n",
    "df_phylo_genome_len['node_label'] = genome_ids_M4\n",
    "df_phylo_genome_len['genome_len'] = df_seqfu_meta.loc[genome_ids_M4,'Total'].tolist()\n",
    "df_phylo_genome_len.to_csv(phylo_genome_len_bar_path)"
   ]
  },
  {
   "cell_type": "code",
   "execution_count": 22,
   "id": "3cce6e14-dc7f-44eb-8083-c65146f0cd72",
   "metadata": {},
   "outputs": [],
   "source": [
    "df_phylo_colored_subclusters = pd.DataFrame(index= genome_ids_M4)\n",
    "df_phylo_colored_subclusters['node_label'] = genome_ids_M4\n",
    "\n",
    "df_phylo_colored_subclusters['range_color'] = df_clusters.loc[genome_ids_M4, 'Subcluster_Color']\n",
    "df_phylo_colored_subclusters['range_label'] = df_clusters.loc[genome_ids_M4, 'Subcluster_label']\n",
    "\n",
    "df_phylo_colored_subclusters.to_csv(phylo_subclusters_path)"
   ]
  },
  {
   "cell_type": "code",
   "execution_count": 24,
   "id": "efc737e3-b2cb-4c3a-a318-6a686584bd66",
   "metadata": {},
   "outputs": [],
   "source": [
    "filter_color_dict = {\"HQ_NCBI\": \"#8B0000\",\n",
    "                    \"MQ_NCBI\": \"#FA8072\",\n",
    "                    \"HQ_NBC\": \"#00008B\",\n",
    "                    \"MQ_NBC\": \"#ADD8E6\"}\n",
    "\n",
    "df_phylo_filters = pd.DataFrame(index= genome_ids_M4)\n",
    "df_phylo_filters['node_label'] = genome_ids_M4\n",
    "\n",
    "for genome_id in df_phylo_filters.index:\n",
    "    source_qaulity = df_filter_quality.loc[genome_id, \"quality\"] + \"_\" + df_filter_quality.loc[genome_id, \"source\"]\n",
    "    df_phylo_filters.loc[genome_id, 'range_color'] = filter_color_dict[source_qaulity]\n",
    "    df_phylo_filters.loc[genome_id, 'range_label'] = source_qaulity\n",
    "\n",
    "df_phylo_filters.to_csv(phylo_filters_path)"
   ]
  }
 ],
 "metadata": {
  "kernelspec": {
   "display_name": "Python 3 (ipykernel)",
   "language": "python",
   "name": "python3"
  },
  "language_info": {
   "codemirror_mode": {
    "name": "ipython",
    "version": 3
   },
   "file_extension": ".py",
   "mimetype": "text/x-python",
   "name": "python",
   "nbconvert_exporter": "python",
   "pygments_lexer": "ipython3",
   "version": "3.9.16"
  }
 },
 "nbformat": 4,
 "nbformat_minor": 5
}
